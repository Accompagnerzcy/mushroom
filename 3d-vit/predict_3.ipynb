{
 "cells": [
  {
   "cell_type": "code",
   "execution_count": 1,
   "metadata": {},
   "outputs": [],
   "source": [
    "import h5py\n",
    "import torch\n",
    "import os\n",
    "from torch.autograd import Variable\n",
    "import torch.nn.functional as F\n",
    "import torch.nn as nn\n",
    "import torch.optim as optim\n",
    "import torch.utils.data as Data\n",
    "from torch.utils.data.dataset import Dataset\n",
    "import numpy as np\n",
    "import setting_2 as setting\n",
    "import time\n",
    "import matplotlib.pyplot as plt\n",
    "from torch.utils.tensorboard import SummaryWriter\n",
    "import ComFunction as cf\n",
    "import math\n",
    "import spectral\n",
    "import cv2\n",
    "\n",
    "from vit_pytorch import ViT"
   ]
  },
  {
   "cell_type": "code",
   "execution_count": 2,
   "metadata": {},
   "outputs": [],
   "source": [
    "model_name='model_time_2023_01_04_17_56'"
   ]
  },
  {
   "cell_type": "code",
   "execution_count": 3,
   "metadata": {},
   "outputs": [
    {
     "name": "stdout",
     "output_type": "stream",
     "text": [
      "cuda\n"
     ]
    }
   ],
   "source": [
    "device = torch.device('cuda' if torch.cuda.is_available() else 'cpu')\n",
    "if device.type=='cuda':\n",
    "#     dtype = torch.float32\n",
    "#     torch.set_default_tensor_type(torch.cuda.FloatTensor)\n",
    "    dtype = torch.float64\n",
    "    torch.set_default_tensor_type(torch.cuda.DoubleTensor)\n",
    "else:\n",
    "#     dtype = torch.float32\n",
    "#     torch.set_default_tensor_type(torch.FloatTensor)\n",
    "    dtype = torch.float64\n",
    "    torch.set_default_tensor_type(torch.DoubleTensor)\n",
    "print(device.type)"
   ]
  },
  {
   "cell_type": "code",
   "execution_count": 4,
   "metadata": {},
   "outputs": [],
   "source": [
    "class HyperData(Dataset):\n",
    "    def __init__(self, data, labels, position, transfor):\n",
    "        self.data = data\n",
    "        self.transformer = transfor\n",
    "        self.labels = labels\n",
    "        self.position = position\n",
    "        \n",
    "\n",
    "    def __getitem__(self, index):\n",
    "        img = self.data[index,:,:]\n",
    "        label = self.labels[index]\n",
    "        position = self.position[index,:]\n",
    "        return img, label, position\n",
    "\n",
    "    def __len__(self):\n",
    "        return len(self.labels)\n",
    "\n",
    "    def __labels__(self):\n",
    "        return self.labels"
   ]
  },
  {
   "cell_type": "code",
   "execution_count": 5,
   "metadata": {},
   "outputs": [],
   "source": [
    "def gain_neighborhood_band(x_train, band, band_patch, patch=5):\n",
    "    nn = band_patch // 2\n",
    "    pp = (patch*patch) // 2\n",
    "    x_train_reshape = x_train.reshape(x_train.shape[0], patch*patch, band)\n",
    "    x_train_band = np.zeros((x_train.shape[0], patch*patch*band_patch, band),dtype=float)\n",
    "    # 中心区域\n",
    "    x_train_band[:,nn*patch*patch:(nn+1)*patch*patch,:] = x_train_reshape\n",
    "    #左边镜像\n",
    "    for i in range(nn):\n",
    "        if pp > 0:\n",
    "            x_train_band[:,i*patch*patch:(i+1)*patch*patch,:i+1] = x_train_reshape[:,:,band-i-1:]\n",
    "            x_train_band[:,i*patch*patch:(i+1)*patch*patch,i+1:] = x_train_reshape[:,:,:band-i-1]\n",
    "        else:\n",
    "            x_train_band[:,i:(i+1),:(nn-i)] = x_train_reshape[:,0:1,(band-nn+i):]\n",
    "            x_train_band[:,i:(i+1),(nn-i):] = x_train_reshape[:,0:1,:(band-nn+i)]\n",
    "    #右边镜像\n",
    "    for i in range(nn):\n",
    "        if pp > 0:\n",
    "            x_train_band[:,(nn+i+1)*patch*patch:(nn+i+2)*patch*patch,:band-i-1] = x_train_reshape[:,:,i+1:]\n",
    "            x_train_band[:,(nn+i+1)*patch*patch:(nn+i+2)*patch*patch,band-i-1:] = x_train_reshape[:,:,:i+1]\n",
    "        else:\n",
    "            x_train_band[:,(nn+1+i):(nn+2+i),(band-i-1):] = x_train_reshape[:,0:1,:(i+1)]\n",
    "            x_train_band[:,(nn+1+i):(nn+2+i),:(band-i-1)] = x_train_reshape[:,0:1,(i+1):]\n",
    "    return x_train_band"
   ]
  },
  {
   "cell_type": "code",
   "execution_count": 6,
   "metadata": {},
   "outputs": [],
   "source": [
    "a=np.array([[0,0,0,],\n",
    "[0.996108949416342,0.992202639810788,0.535164415960937],\n",
    "[0.996108949416342,0.00781261921110857,0.980483710994125],\n",
    "[0.996108949416342,0.347661554894331,0.00390630960555428],\n",
    "[0.719531548027771,0.996108949416342,0.519539177538720],\n",
    "[0.0117189288166629,0.109376668955520,0.941420614938582],\n",
    "[0.347661554894331,0.00390630960555428,0.996108949416342],\n",
    "[0.0117189288166629,0.667978942549783,0.996108949416342],\n",
    "[0.0468757152666514,0.996108949416342,0.0273441672388800],\n",
    "[0.671885252155337,0.683604180972000,0.328130006866560],\n",
    "[0.625009536888685,0.304692149233234,0.617196917677577],\n",
    "[0.597924773022049,0.677821011673152,1],\n",
    "[0.234378576333257,0.355474174105440,0.437506675822080],\n",
    "[0.406256198977646,0.750011444266423,0.246097505149920],\n",
    "[0.542977035172045,0.269535362783246,0.179690241855497],\n",
    "[0.964850843060960,0.896108949416342,0.671885252155337],\n",
    "[0.992202639810788,0.996108949416342,0.0117189288166629]]\n",
    ")\n",
    "color_map=255*a"
   ]
  },
  {
   "cell_type": "code",
   "execution_count": 7,
   "metadata": {},
   "outputs": [],
   "source": [
    "EPOCH=setting.EPOCH\n",
    "BATCH_SIZE=setting.BATCH_SIZE\n",
    "LR=setting.LR"
   ]
  },
  {
   "cell_type": "code",
   "execution_count": 8,
   "metadata": {},
   "outputs": [
    {
     "data": {
      "text/plain": [
       "<All keys matched successfully>"
      ]
     },
     "execution_count": 8,
     "metadata": {},
     "output_type": "execute_result"
    }
   ],
   "source": [
    "net=ViT(\n",
    "    image_size = setting.PATCH_SIZE,\n",
    "    near_band = setting.band_patches,\n",
    "    num_patches = setting.band,\n",
    "    num_classes = setting.num_class,\n",
    "    dim =64,\n",
    "    depth =2,\n",
    "    heads = 4,\n",
    "    mlp_dim =6,\n",
    "    dropout = 0.1,\n",
    "    emb_dropout = 0.1,\n",
    "    mode = setting.mode\n",
    ").to(device)\n",
    "\n",
    "best_model_name='./model/model_best/'+model_name+'.pth'\n",
    "model = torch.load(best_model_name)\n",
    "# final_model_name='./model/'+model_name+'.pth'\n",
    "# model = torch.load(final_model_name)\n",
    "\n",
    "net.load_state_dict(model['net'])"
   ]
  },
  {
   "cell_type": "markdown",
   "metadata": {},
   "source": [
    "预测23"
   ]
  },
  {
   "cell_type": "code",
   "execution_count": 9,
   "metadata": {},
   "outputs": [
    {
     "name": "stdout",
     "output_type": "stream",
     "text": [
      "5\n"
     ]
    }
   ],
   "source": [
    "no=setting.test_no\n",
    "print(no)"
   ]
  },
  {
   "cell_type": "code",
   "execution_count": 10,
   "metadata": {},
   "outputs": [
    {
     "name": "stdout",
     "output_type": "stream",
     "text": [
      "test size: (47013, 7, 7, 204)\n",
      "test_labels size: (47013,)\n",
      "test_position size: (47013, 2)\n"
     ]
    }
   ],
   "source": [
    "test_filename = './sample/Test_'+str(no)+'_23'+ '_'+str(setting.PATCH_SIZE)+ '_'+ str(setting.DTYPE)+'.h5'\n",
    "with h5py.File(test_filename,'r') as readfile:\n",
    "    test=readfile['test_patch'][:]\n",
    "    test_labels=readfile['test_labels'][:]\n",
    "    test_position=readfile['test_position'][:]\n",
    "print('test size:', test.shape)\n",
    "print('test_labels size:', test_labels.shape)\n",
    "print('test_position size:', test_position.shape)\n",
    "\n",
    "\n",
    "# test_max=np.max(np.abs(test))\n",
    "# print('test max:',test_max)\n",
    "# stest=stest/stest_max\n",
    "# print('test label name:',np.unique(test_labels))"
   ]
  },
  {
   "cell_type": "code",
   "execution_count": 11,
   "metadata": {},
   "outputs": [
    {
     "name": "stdout",
     "output_type": "stream",
     "text": [
      "(47013, 343, 204)\n",
      "(47013, 204, 343)\n"
     ]
    }
   ],
   "source": [
    "test = gain_neighborhood_band(test, setting.band, setting.band_patches, setting.PATCH_SIZE)\n",
    "print(test.shape)\n",
    "test =test.transpose(0,2,1)\n",
    "print(test.shape)"
   ]
  },
  {
   "cell_type": "code",
   "execution_count": 12,
   "metadata": {},
   "outputs": [],
   "source": [
    "test_set=HyperData(test, test_labels, test_position,None)\n",
    "testloader= Data.DataLoader(dataset=test_set,batch_size=BATCH_SIZE,shuffle=False, num_workers=0)"
   ]
  },
  {
   "cell_type": "code",
   "execution_count": 13,
   "metadata": {},
   "outputs": [
    {
     "name": "stderr",
     "output_type": "stream",
     "text": [
      "C:\\Users\\h'p\\AppData\\Local\\Temp\\ipykernel_14232\\128841729.py:12: UserWarning: Implicit dimension choice for softmax has been deprecated. Change the call to include dim=X as an argument.\n",
      "  _, tspredicted = torch.max(F.softmax(tsoutputs), 1)\n"
     ]
    },
    {
     "name": "stdout",
     "output_type": "stream",
     "text": [
      "predict testing set finished\n",
      "predict test time: 48.59852981567383\n"
     ]
    }
   ],
   "source": [
    "net.eval()\n",
    "predict_testlabels=[]\n",
    "testlabels=[]\n",
    "pre_testposition=[]\n",
    "t1=time.time()\n",
    "with torch.no_grad():\n",
    "    for tsdata in testloader:\n",
    "        tsinputs, tslabels, tsposition = tsdata\n",
    "        tsinputs = tsinputs.to(device)\n",
    "        tslabels = tslabels.to(device)\n",
    "        tsoutputs = net(tsinputs)\n",
    "        _, tspredicted = torch.max(F.softmax(tsoutputs), 1)\n",
    "        predict_testlabels.extend(tspredicted)\n",
    "        testlabels.extend(tslabels)\n",
    "        pre_testposition.extend(tsposition)\n",
    "    print('predict testing set finished')\n",
    "t2=time.time()\n",
    "print('predict test time:',t2-t1)\n",
    "\n"
   ]
  },
  {
   "cell_type": "code",
   "execution_count": 14,
   "metadata": {},
   "outputs": [
    {
     "name": "stdout",
     "output_type": "stream",
     "text": [
      "OA_test: 0.9765596749835151 \n",
      "AA_test: 0.9766594891035181 \n",
      "kappa_test: 0.9395745768601891 \n",
      "acc_test: [0.97645374 0.97686524]\n",
      "Confusion matrix： [[34088.   280.]\n",
      " [  822. 11823.]]\n"
     ]
    }
   ],
   "source": [
    "predict_testlabels=torch.tensor(predict_testlabels, device='cpu')\n",
    "testlabels=torch.tensor(testlabels,device='cpu')\n",
    "# print('predict label class name:',np.unique(predict_testlabels))\n",
    "oa_test, aa_test, kappa_test, acc_test,cm=cf.eval_results_own(predict_testlabels,testlabels,2)\n",
    "print('OA_test:',oa_test, '\\nAA_test:', aa_test, '\\nkappa_test:', kappa_test, '\\nacc_test:', acc_test)\n",
    "print('Confusion matrix：',cm)"
   ]
  },
  {
   "cell_type": "code",
   "execution_count": 15,
   "metadata": {},
   "outputs": [
    {
     "data": {
      "text/plain": [
       "280.0"
      ]
     },
     "execution_count": 15,
     "metadata": {},
     "output_type": "execute_result"
    }
   ],
   "source": [
    "cm[0,1]"
   ]
  },
  {
   "cell_type": "code",
   "execution_count": 16,
   "metadata": {
    "scrolled": true
   },
   "outputs": [
    {
     "name": "stdout",
     "output_type": "stream",
     "text": [
      "predict label class name: [0 1]\n"
     ]
    }
   ],
   "source": [
    "print('predict label class name:',np.unique(predict_testlabels))"
   ]
  },
  {
   "cell_type": "code",
   "execution_count": 17,
   "metadata": {},
   "outputs": [
    {
     "data": {
      "image/png": "[encoded data removed]",
      "text/plain": [
       "<Figure size 500x1000 with 1 Axes>"
      ]
     },
     "metadata": {},
     "output_type": "display_data"
    }
   ],
   "source": [
    "label_file='Label_23'\n",
    "label_map = cv2.imread(os.path.join(setting.test_label_path, label_file + '.png'), cv2.IMREAD_GRAYSCALE)\n",
    "label_image = spectral.imshow(classes = label_map,figsize =(5,10),colors=color_map)"
   ]
  },
  {
   "cell_type": "code",
   "execution_count": 18,
   "metadata": {},
   "outputs": [],
   "source": [
    "[h,w]=label_map.shape\n",
    "test_map=np.zeros([h,w])\n",
    "pre_map=np.zeros([h,w])"
   ]
  },
  {
   "cell_type": "code",
   "execution_count": 19,
   "metadata": {},
   "outputs": [
    {
     "data": {
      "image/png": "[encoded data removed]",
      "text/plain": [
       "<Figure size 500x1000 with 1 Axes>"
      ]
     },
     "metadata": {},
     "output_type": "display_data"
    }
   ],
   "source": [
    "for i in range(len(test_labels)):\n",
    "    [x,y]=test_position[i,:]\n",
    "    test_map[x,y]=test_labels[i]+1\n",
    "    \n",
    "test_image = spectral.imshow(classes = test_map.astype(int),figsize =(5,10),colors=color_map)"
   ]
  },
  {
   "cell_type": "code",
   "execution_count": 20,
   "metadata": {},
   "outputs": [
    {
     "data": {
      "image/png": "[encoded data removed]",
      "text/plain": [
       "<Figure size 500x1000 with 1 Axes>"
      ]
     },
     "metadata": {},
     "output_type": "display_data"
    }
   ],
   "source": [
    "for i in range(len(predict_testlabels)):\n",
    "    [x,y]=pre_testposition[i]\n",
    "    pre_map[x,y]=predict_testlabels[i]+1\n",
    "    \n",
    "pre_image = spectral.imshow(classes = pre_map.astype(int),figsize =(5,10),colors=color_map)"
   ]
  },
  {
   "cell_type": "code",
   "execution_count": 21,
   "metadata": {},
   "outputs": [
    {
     "name": "stdout",
     "output_type": "stream",
     "text": [
      "./result_image/model_time_2023_01_04_17_56\n",
      "目录已存在：model_time_2023_01_04_17_56\n",
      "./result_image/model_time_2023_01_04_17_56/Label_23.png\n"
     ]
    },
    {
     "data": {
      "text/plain": [
       "True"
      ]
     },
     "execution_count": 21,
     "metadata": {},
     "output_type": "execute_result"
    }
   ],
   "source": [
    "img_path='./result_image/'+model_name\n",
    "print(img_path)\n",
    "cf.mkdir_single(img_path)\n",
    "img_name=img_path+'/'+label_file+'.png'\n",
    "print(img_name)\n",
    "cv2.imwrite(img_name,pre_map.astype(int))"
   ]
  },
  {
   "cell_type": "code",
   "execution_count": 22,
   "metadata": {},
   "outputs": [],
   "source": [
    "# I=cv2.imread(img_name, cv2.IMREAD_GRAYSCALE)\n",
    "# I_image = spectral.imshow(classes = I.astype(int),figsize =(5,10),colors=color_map)"
   ]
  },
  {
   "cell_type": "code",
   "execution_count": 23,
   "metadata": {},
   "outputs": [
    {
     "data": {
      "image/png": "[encoded data removed]",
      "text/plain": [
       "<Figure size 500x1000 with 1 Axes>"
      ]
     },
     "metadata": {},
     "output_type": "display_data"
    }
   ],
   "source": [
    "ERR1=np.where(pre_map!=test_map,1,0)\n",
    "err_image_1 = spectral.imshow(classes = ERR1.astype(int),figsize =(5,10),colors=color_map)"
   ]
  },
  {
   "cell_type": "markdown",
   "metadata": {},
   "source": [
    "预测25"
   ]
  },
  {
   "cell_type": "code",
   "execution_count": 24,
   "metadata": {},
   "outputs": [
    {
     "name": "stdout",
     "output_type": "stream",
     "text": [
      "test size: (40180, 7, 7, 204)\n",
      "test_labels size: (40180,)\n",
      "test_position size: (40180, 2)\n",
      "(40180, 343, 204)\n",
      "(40180, 204, 343)\n"
     ]
    }
   ],
   "source": [
    "test_filename = './sample/Test_'+str(no)+'_25'+ '_'+str(setting.PATCH_SIZE)+'_'+ str(setting.DTYPE)+'.h5'\n",
    "with h5py.File(test_filename,'r') as readfile:\n",
    "    test=readfile['test_patch'][:]\n",
    "    test_labels=readfile['test_labels'][:]\n",
    "    test_position=readfile['test_position'][:]\n",
    "print('test size:', test.shape)\n",
    "print('test_labels size:', test_labels.shape)\n",
    "print('test_position size:', test_position.shape)\n",
    "\n",
    "\n",
    "# test_max=np.max(np.abs(test))\n",
    "# print('test max:',test_max)\n",
    "# stest=stest/stest_max\n",
    "# print('test label name:',np.unique(test_labels))\n",
    "\n",
    "test = gain_neighborhood_band(test, setting.band, setting.band_patches, setting.PATCH_SIZE)\n",
    "print(test.shape)\n",
    "test =test.transpose(0,2,1)\n",
    "print(test.shape)"
   ]
  },
  {
   "cell_type": "code",
   "execution_count": 25,
   "metadata": {},
   "outputs": [],
   "source": [
    "test_set=HyperData(test, test_labels, test_position,None)\n",
    "testloader= Data.DataLoader(dataset=test_set,batch_size=BATCH_SIZE,shuffle=False, num_workers=0)"
   ]
  },
  {
   "cell_type": "code",
   "execution_count": 26,
   "metadata": {},
   "outputs": [
    {
     "name": "stderr",
     "output_type": "stream",
     "text": [
      "C:\\Users\\h'p\\AppData\\Local\\Temp\\ipykernel_14232\\3006041116.py:12: UserWarning: Implicit dimension choice for softmax has been deprecated. Change the call to include dim=X as an argument.\n",
      "  _, tspredicted = torch.max(F.softmax(tsoutputs), 1)\n"
     ]
    },
    {
     "name": "stdout",
     "output_type": "stream",
     "text": [
      "predict testing set finished\n",
      "predict test time: 49.96900296211243\n"
     ]
    }
   ],
   "source": [
    "net.eval()\n",
    "predict_testlabels=[]\n",
    "testlabels=[]\n",
    "pre_testposition=[]\n",
    "t1=time.time()\n",
    "with torch.no_grad():\n",
    "    for tsdata in testloader:\n",
    "        tsinputs, tslabels, tsposition = tsdata\n",
    "        tsinputs = tsinputs.to(device)\n",
    "        tslabels = tslabels.to(device)\n",
    "        tsoutputs = net(tsinputs)\n",
    "        _, tspredicted = torch.max(F.softmax(tsoutputs), 1)\n",
    "        predict_testlabels.extend(tspredicted)\n",
    "        testlabels.extend(tslabels)\n",
    "        pre_testposition.extend(tsposition)\n",
    "    print('predict testing set finished')\n",
    "t2=time.time()\n",
    "print('predict test time:',t2-t1)\n",
    "# print('predict label class name:',np.unique(predict_testlabels))\n",
    "\n",
    "# predict_testlabels=torch.tensor(predict_testlabels, device='cpu')\n",
    "# testlabels=torch.tensor(testlabels,device='cpu')\n",
    "# oa_test, aa_test, kappa_test, acc_test=cf.eval_results_own(predict_testlabels,testlabels,2)\n",
    "# print('OA_test:',oa_test, '\\nAA_test:', aa_test, '\\nkappa_test:', kappa_test, '\\nacc_test:', acc_test)"
   ]
  },
  {
   "cell_type": "code",
   "execution_count": 27,
   "metadata": {},
   "outputs": [
    {
     "name": "stdout",
     "output_type": "stream",
     "text": [
      "OA_test: 0.966376306620209 \n",
      "AA_test: 0.9680257245787643 \n",
      "kappa_test: 0.9320905008352929 \n",
      "acc_test: [0.95405574 0.98199571]\n",
      "Confusion matrix： [[21430.   319.]\n",
      " [ 1032. 17399.]]\n"
     ]
    }
   ],
   "source": [
    "predict_testlabels=torch.tensor(predict_testlabels, device='cpu')\n",
    "testlabels=torch.tensor(testlabels,device='cpu')\n",
    "# print('predict label class name:',np.unique(predict_testlabels))\n",
    "oa_test, aa_test, kappa_test, acc_test,cm=cf.eval_results_own(predict_testlabels,testlabels,2)\n",
    "print('OA_test:',oa_test, '\\nAA_test:', aa_test, '\\nkappa_test:', kappa_test, '\\nacc_test:', acc_test)\n",
    "print('Confusion matrix：',cm)"
   ]
  },
  {
   "cell_type": "code",
   "execution_count": 28,
   "metadata": {},
   "outputs": [
    {
     "name": "stdout",
     "output_type": "stream",
     "text": [
      "predict label class name: [0 1]\n"
     ]
    }
   ],
   "source": [
    "print('predict label class name:',np.unique(predict_testlabels))"
   ]
  },
  {
   "cell_type": "code",
   "execution_count": 29,
   "metadata": {},
   "outputs": [
    {
     "data": {
      "image/png": "[encoded data removed]",
      "text/plain": [
       "<Figure size 500x1000 with 1 Axes>"
      ]
     },
     "metadata": {},
     "output_type": "display_data"
    }
   ],
   "source": [
    "label_file='Label_25'\n",
    "label_map = cv2.imread(os.path.join(setting.test_label_path, label_file + '.png'), cv2.IMREAD_GRAYSCALE)\n",
    "label_image = spectral.imshow(classes = label_map,figsize =(5,10),colors=color_map)"
   ]
  },
  {
   "cell_type": "code",
   "execution_count": 30,
   "metadata": {},
   "outputs": [],
   "source": [
    "[h,w]=label_map.shape\n",
    "test_map=np.zeros([h,w])\n",
    "pre_map=np.zeros([h,w])"
   ]
  },
  {
   "cell_type": "code",
   "execution_count": 31,
   "metadata": {},
   "outputs": [
    {
     "data": {
      "image/png": "[encoded data removed]",
      "text/plain": [
       "<Figure size 500x1000 with 1 Axes>"
      ]
     },
     "metadata": {},
     "output_type": "display_data"
    }
   ],
   "source": [
    "for i in range(len(test_labels)):\n",
    "    [x,y]=test_position[i,:]\n",
    "    test_map[x,y]=test_labels[i]+1\n",
    "    \n",
    "test_image = spectral.imshow(classes = test_map.astype(int),figsize =(5,10),colors=color_map)"
   ]
  },
  {
   "cell_type": "code",
   "execution_count": 32,
   "metadata": {},
   "outputs": [
    {
     "data": {
      "image/png": "[encoded data removed]",
      "text/plain": [
       "<Figure size 500x1000 with 1 Axes>"
      ]
     },
     "metadata": {},
     "output_type": "display_data"
    }
   ],
   "source": [
    "for i in range(len(predict_testlabels)):\n",
    "    [x,y]=pre_testposition[i]\n",
    "    pre_map[x,y]=predict_testlabels[i]+1\n",
    "    \n",
    "pre_image = spectral.imshow(classes = pre_map.astype(int),figsize =(5,10),colors=color_map)"
   ]
  },
  {
   "cell_type": "code",
   "execution_count": 33,
   "metadata": {},
   "outputs": [
    {
     "name": "stdout",
     "output_type": "stream",
     "text": [
      "./result_image/model_time_2023_01_04_17_56\n",
      "目录已存在：model_time_2023_01_04_17_56\n",
      "./result_image/model_time_2023_01_04_17_56/Label_25.png\n"
     ]
    },
    {
     "data": {
      "text/plain": [
       "True"
      ]
     },
     "execution_count": 33,
     "metadata": {},
     "output_type": "execute_result"
    }
   ],
   "source": [
    "img_path='./result_image/'+model_name\n",
    "print(img_path)\n",
    "cf.mkdir_single(img_path)\n",
    "img_name=img_path+'/'+label_file+'.png'\n",
    "print(img_name)\n",
    "cv2.imwrite(img_name,pre_map.astype(int))"
   ]
  },
  {
   "cell_type": "code",
   "execution_count": 34,
   "metadata": {},
   "outputs": [
    {
     "data": {
      "image/png": "[encoded data removed]",
      "text/plain": [
       "<Figure size 500x1000 with 1 Axes>"
      ]
     },
     "metadata": {},
     "output_type": "display_data"
    }
   ],
   "source": [
    "ERR1=np.where(pre_map!=test_map,1,0)\n",
    "err_image_1 = spectral.imshow(classes = ERR1.astype(int),figsize =(5,10),colors=color_map)"
   ]
  },
  {
   "cell_type": "markdown",
   "metadata": {},
   "source": [
    "预测27"
   ]
  },
  {
   "cell_type": "code",
   "execution_count": 35,
   "metadata": {},
   "outputs": [
    {
     "name": "stdout",
     "output_type": "stream",
     "text": [
      "test size: (45596, 7, 7, 204)\n",
      "test_labels size: (45596,)\n",
      "test_position size: (45596, 2)\n",
      "(45596, 343, 204)\n",
      "(45596, 204, 343)\n"
     ]
    }
   ],
   "source": [
    "test_filename = './sample/Test_'+str(no)+'_27'+ '_'+str(setting.PATCH_SIZE)+'_'+ str(setting.DTYPE)+'.h5'\n",
    "with h5py.File(test_filename,'r') as readfile:\n",
    "    test=readfile['test_patch'][:]\n",
    "    test_labels=readfile['test_labels'][:]\n",
    "    test_position=readfile['test_position'][:]\n",
    "print('test size:', test.shape)\n",
    "print('test_labels size:', test_labels.shape)\n",
    "print('test_position size:', test_position.shape)\n",
    "\n",
    "\n",
    "# test_max=np.max(np.abs(test))\n",
    "# print('test max:',test_max)\n",
    "# stest=stest/stest_max\n",
    "# print('test label name:',np.unique(test_labels))\n",
    "\n",
    "test = gain_neighborhood_band(test, setting.band, setting.band_patches, setting.PATCH_SIZE)\n",
    "print(test.shape)\n",
    "test =test.transpose(0,2,1)\n",
    "print(test.shape)"
   ]
  },
  {
   "cell_type": "code",
   "execution_count": 36,
   "metadata": {},
   "outputs": [],
   "source": [
    "test_set=HyperData(test, test_labels, test_position,None)\n",
    "testloader= Data.DataLoader(dataset=test_set,batch_size=BATCH_SIZE,shuffle=False, num_workers=0)"
   ]
  },
  {
   "cell_type": "code",
   "execution_count": 37,
   "metadata": {},
   "outputs": [
    {
     "name": "stderr",
     "output_type": "stream",
     "text": [
      "C:\\Users\\h'p\\AppData\\Local\\Temp\\ipykernel_14232\\3006041116.py:12: UserWarning: Implicit dimension choice for softmax has been deprecated. Change the call to include dim=X as an argument.\n",
      "  _, tspredicted = torch.max(F.softmax(tsoutputs), 1)\n"
     ]
    },
    {
     "name": "stdout",
     "output_type": "stream",
     "text": [
      "predict testing set finished\n",
      "predict test time: 62.46416926383972\n"
     ]
    }
   ],
   "source": [
    "net.eval()\n",
    "predict_testlabels=[]\n",
    "testlabels=[]\n",
    "pre_testposition=[]\n",
    "t1=time.time()\n",
    "with torch.no_grad():\n",
    "    for tsdata in testloader:\n",
    "        tsinputs, tslabels, tsposition = tsdata\n",
    "        tsinputs = tsinputs.to(device)\n",
    "        tslabels = tslabels.to(device)\n",
    "        tsoutputs = net(tsinputs)\n",
    "        _, tspredicted = torch.max(F.softmax(tsoutputs), 1)\n",
    "        predict_testlabels.extend(tspredicted)\n",
    "        testlabels.extend(tslabels)\n",
    "        pre_testposition.extend(tsposition)\n",
    "    print('predict testing set finished')\n",
    "t2=time.time()\n",
    "print('predict test time:',t2-t1)\n",
    "# print('predict label class name:',np.unique(predict_testlabels))\n",
    "\n",
    "# predict_testlabels=torch.tensor(predict_testlabels, device='cpu')\n",
    "# testlabels=torch.tensor(testlabels,device='cpu')\n",
    "# oa_test, aa_test, kappa_test, acc_test=cf.eval_results_own(predict_testlabels,testlabels,2)\n",
    "# print('OA_test:',oa_test, '\\nAA_test:', aa_test, '\\nkappa_test:', kappa_test, '\\nacc_test:', acc_test)"
   ]
  },
  {
   "cell_type": "code",
   "execution_count": 38,
   "metadata": {},
   "outputs": [
    {
     "name": "stdout",
     "output_type": "stream",
     "text": [
      "OA_test: 0.952824809193789 \n",
      "AA_test: 0.9374519995287648 \n",
      "kappa_test: 0.8924353501079958 \n",
      "acc_test: [0.89007207 0.98483193]\n",
      "Confusion matrix： [[13708.   458.]\n",
      " [ 1693. 29737.]]\n"
     ]
    }
   ],
   "source": [
    "predict_testlabels=torch.tensor(predict_testlabels, device='cpu')\n",
    "testlabels=torch.tensor(testlabels,device='cpu')\n",
    "# print('predict label class name:',np.unique(predict_testlabels))\n",
    "oa_test, aa_test, kappa_test, acc_test,cm=cf.eval_results_own(predict_testlabels,testlabels,2)\n",
    "print('OA_test:',oa_test, '\\nAA_test:', aa_test, '\\nkappa_test:', kappa_test, '\\nacc_test:', acc_test)\n",
    "print('Confusion matrix：',cm)"
   ]
  },
  {
   "cell_type": "code",
   "execution_count": 39,
   "metadata": {},
   "outputs": [
    {
     "name": "stdout",
     "output_type": "stream",
     "text": [
      "predict label class name: [0 1]\n"
     ]
    }
   ],
   "source": [
    "print('predict label class name:',np.unique(predict_testlabels))"
   ]
  },
  {
   "cell_type": "code",
   "execution_count": 40,
   "metadata": {},
   "outputs": [
    {
     "data": {
      "image/png": "[encoded data removed]",
      "text/plain": [
       "<Figure size 500x1000 with 1 Axes>"
      ]
     },
     "metadata": {},
     "output_type": "display_data"
    }
   ],
   "source": [
    "label_file='Label_27'\n",
    "label_map = cv2.imread(os.path.join(setting.test_label_path, label_file + '.png'), cv2.IMREAD_GRAYSCALE)\n",
    "label_image = spectral.imshow(classes = label_map,figsize =(5,10),colors=color_map)"
   ]
  },
  {
   "cell_type": "code",
   "execution_count": 41,
   "metadata": {},
   "outputs": [],
   "source": [
    "[h,w]=label_map.shape\n",
    "test_map=np.zeros([h,w])\n",
    "pre_map=np.zeros([h,w])"
   ]
  },
  {
   "cell_type": "code",
   "execution_count": 42,
   "metadata": {},
   "outputs": [
    {
     "data": {
      "image/png": "[encoded data removed]",
      "text/plain": [
       "<Figure size 500x1000 with 1 Axes>"
      ]
     },
     "metadata": {},
     "output_type": "display_data"
    }
   ],
   "source": [
    "for i in range(len(test_labels)):\n",
    "    [x,y]=test_position[i,:]\n",
    "    test_map[x,y]=test_labels[i]+1\n",
    "    \n",
    "test_image = spectral.imshow(classes = test_map.astype(int),figsize =(5,10),colors=color_map)"
   ]
  },
  {
   "cell_type": "code",
   "execution_count": 43,
   "metadata": {},
   "outputs": [
    {
     "data": {
      "image/png": "[encoded data removed]",
      "text/plain": [
       "<Figure size 500x1000 with 1 Axes>"
      ]
     },
     "metadata": {},
     "output_type": "display_data"
    }
   ],
   "source": [
    "for i in range(len(predict_testlabels)):\n",
    "    [x,y]=pre_testposition[i]\n",
    "    pre_map[x,y]=predict_testlabels[i]+1\n",
    "    \n",
    "pre_image = spectral.imshow(classes = pre_map.astype(int),figsize =(5,10),colors=color_map)"
   ]
  },
  {
   "cell_type": "code",
   "execution_count": 44,
   "metadata": {},
   "outputs": [
    {
     "name": "stdout",
     "output_type": "stream",
     "text": [
      "./result_image/model_time_2023_01_04_17_56\n",
      "目录已存在：model_time_2023_01_04_17_56\n",
      "./result_image/model_time_2023_01_04_17_56/Label_27.png\n"
     ]
    },
    {
     "data": {
      "text/plain": [
       "True"
      ]
     },
     "execution_count": 44,
     "metadata": {},
     "output_type": "execute_result"
    }
   ],
   "source": [
    "img_path='./result_image/'+model_name\n",
    "print(img_path)\n",
    "cf.mkdir_single(img_path)\n",
    "img_name=img_path+'/'+label_file+'.png'\n",
    "print(img_name)\n",
    "cv2.imwrite(img_name,pre_map.astype(int))"
   ]
  },
  {
   "cell_type": "code",
   "execution_count": 45,
   "metadata": {},
   "outputs": [
    {
     "data": {
      "image/png": "[encoded data removed]",
      "text/plain": [
       "<Figure size 500x1000 with 1 Axes>"
      ]
     },
     "metadata": {},
     "output_type": "display_data"
    }
   ],
   "source": [
    "ERR1=np.where(pre_map!=test_map,1,0)\n",
    "err_image_1 = spectral.imshow(classes = ERR1.astype(int),figsize =(5,10),colors=color_map)"
   ]
  },
  {
   "cell_type": "markdown",
   "metadata": {},
   "source": [
    "预测30"
   ]
  },
  {
   "cell_type": "code",
   "execution_count": 46,
   "metadata": {},
   "outputs": [
    {
     "name": "stdout",
     "output_type": "stream",
     "text": [
      "test size: (45855, 7, 7, 204)\n",
      "test_labels size: (45855,)\n",
      "test_position size: (45855, 2)\n",
      "(45855, 343, 204)\n",
      "(45855, 204, 343)\n"
     ]
    }
   ],
   "source": [
    "test_filename = './sample/Test_'+str(no)+'_30'+ '_'+str(setting.PATCH_SIZE)+'_'+ str(setting.DTYPE)+'.h5'\n",
    "with h5py.File(test_filename,'r') as readfile:\n",
    "    test=readfile['test_patch'][:]\n",
    "    test_labels=readfile['test_labels'][:]\n",
    "    test_position=readfile['test_position'][:]\n",
    "print('test size:', test.shape)\n",
    "print('test_labels size:', test_labels.shape)\n",
    "print('test_position size:', test_position.shape)\n",
    "\n",
    "\n",
    "# test_max=np.max(np.abs(test))\n",
    "# print('test max:',test_max)\n",
    "# stest=stest/stest_max\n",
    "# print('test label name:',np.unique(test_labels))\n",
    "\n",
    "test= gain_neighborhood_band(test, setting.band, setting.band_patches, setting.PATCH_SIZE)\n",
    "print(test.shape)\n",
    "test =test.transpose(0,2,1)\n",
    "print(test.shape)"
   ]
  },
  {
   "cell_type": "code",
   "execution_count": 47,
   "metadata": {},
   "outputs": [],
   "source": [
    "test_set=HyperData(test, test_labels, test_position,None)\n",
    "testloader= Data.DataLoader(dataset=test_set,batch_size=BATCH_SIZE,shuffle=False, num_workers=0)"
   ]
  },
  {
   "cell_type": "code",
   "execution_count": 48,
   "metadata": {},
   "outputs": [
    {
     "name": "stderr",
     "output_type": "stream",
     "text": [
      "C:\\Users\\h'p\\AppData\\Local\\Temp\\ipykernel_14232\\3006041116.py:12: UserWarning: Implicit dimension choice for softmax has been deprecated. Change the call to include dim=X as an argument.\n",
      "  _, tspredicted = torch.max(F.softmax(tsoutputs), 1)\n"
     ]
    },
    {
     "name": "stdout",
     "output_type": "stream",
     "text": [
      "predict testing set finished\n",
      "predict test time: 58.38625121116638\n"
     ]
    }
   ],
   "source": [
    "net.eval()\n",
    "predict_testlabels=[]\n",
    "testlabels=[]\n",
    "pre_testposition=[]\n",
    "t1=time.time()\n",
    "with torch.no_grad():\n",
    "    for tsdata in testloader:\n",
    "        tsinputs, tslabels, tsposition = tsdata\n",
    "        tsinputs = tsinputs.to(device)\n",
    "        tslabels = tslabels.to(device)\n",
    "        tsoutputs = net(tsinputs)\n",
    "        _, tspredicted = torch.max(F.softmax(tsoutputs), 1)\n",
    "        predict_testlabels.extend(tspredicted)\n",
    "        testlabels.extend(tslabels)\n",
    "        pre_testposition.extend(tsposition)\n",
    "    print('predict testing set finished')\n",
    "t2=time.time()\n",
    "print('predict test time:',t2-t1)\n",
    "# print('predict label class name:',np.unique(predict_testlabels))\n",
    "\n",
    "# predict_testlabels=torch.tensor(predict_testlabels, device='cpu')\n",
    "# testlabels=torch.tensor(testlabels,device='cpu')\n",
    "# oa_test, aa_test, kappa_test, acc_test=cf.eval_results_own(predict_testlabels,testlabels,2)\n",
    "# print('OA_test:',oa_test, '\\nAA_test:', aa_test, '\\nkappa_test:', kappa_test, '\\nacc_test:', acc_test)"
   ]
  },
  {
   "cell_type": "code",
   "execution_count": 49,
   "metadata": {},
   "outputs": [
    {
     "name": "stdout",
     "output_type": "stream",
     "text": [
      "OA_test: 0.9728491985606804 \n",
      "AA_test: 0.9656940484645362 \n",
      "kappa_test: 0.9394876365665387 \n",
      "acc_test: [0.9889289  0.94245919]\n",
      "Confusion matrix： [[29656.   913.]\n",
      " [  332. 14954.]]\n"
     ]
    }
   ],
   "source": [
    "predict_testlabels=torch.tensor(predict_testlabels, device='cpu')\n",
    "testlabels=torch.tensor(testlabels,device='cpu')\n",
    "# print('predict label class name:',np.unique(predict_testlabels))\n",
    "oa_test, aa_test, kappa_test, acc_test,cm=cf.eval_results_own(predict_testlabels,testlabels,2)\n",
    "print('OA_test:',oa_test, '\\nAA_test:', aa_test, '\\nkappa_test:', kappa_test, '\\nacc_test:', acc_test)\n",
    "print('Confusion matrix：',cm)"
   ]
  },
  {
   "cell_type": "code",
   "execution_count": 50,
   "metadata": {},
   "outputs": [
    {
     "name": "stdout",
     "output_type": "stream",
     "text": [
      "predict label class name: [0 1]\n"
     ]
    }
   ],
   "source": [
    "print('predict label class name:',np.unique(predict_testlabels))"
   ]
  },
  {
   "cell_type": "code",
   "execution_count": 51,
   "metadata": {},
   "outputs": [
    {
     "data": {
      "image/png": "[encoded data removed]",
      "text/plain": [
       "<Figure size 500x1000 with 1 Axes>"
      ]
     },
     "metadata": {},
     "output_type": "display_data"
    }
   ],
   "source": [
    "label_file='Label_30'\n",
    "label_map = cv2.imread(os.path.join(setting.test_label_path, label_file + '.png'), cv2.IMREAD_GRAYSCALE)\n",
    "label_image = spectral.imshow(classes = label_map,figsize =(5,10),colors=color_map)"
   ]
  },
  {
   "cell_type": "code",
   "execution_count": 52,
   "metadata": {},
   "outputs": [],
   "source": [
    "[h,w]=label_map.shape\n",
    "test_map=np.zeros([h,w])\n",
    "pre_map=np.zeros([h,w])"
   ]
  },
  {
   "cell_type": "code",
   "execution_count": 53,
   "metadata": {},
   "outputs": [
    {
     "data": {
      "image/png": "[encoded data removed]",
      "text/plain": [
       "<Figure size 500x1000 with 1 Axes>"
      ]
     },
     "metadata": {},
     "output_type": "display_data"
    }
   ],
   "source": [
    "for i in range(len(test_labels)):\n",
    "    [x,y]=test_position[i,:]\n",
    "    test_map[x,y]=test_labels[i]+1\n",
    "    \n",
    "test_image = spectral.imshow(classes = test_map.astype(int),figsize =(5,10),colors=color_map)"
   ]
  },
  {
   "cell_type": "code",
   "execution_count": 54,
   "metadata": {},
   "outputs": [
    {
     "data": {
      "image/png": "[encoded data removed]",
      "text/plain": [
       "<Figure size 500x1000 with 1 Axes>"
      ]
     },
     "metadata": {},
     "output_type": "display_data"
    }
   ],
   "source": [
    "for i in range(len(predict_testlabels)):\n",
    "    [x,y]=pre_testposition[i]\n",
    "    pre_map[x,y]=predict_testlabels[i]+1\n",
    "    \n",
    "pre_image = spectral.imshow(classes = pre_map.astype(int),figsize =(5,10),colors=color_map)"
   ]
  },
  {
   "cell_type": "code",
   "execution_count": 55,
   "metadata": {},
   "outputs": [
    {
     "name": "stdout",
     "output_type": "stream",
     "text": [
      "./result_image/model_time_2023_01_04_17_56\n",
      "目录已存在：model_time_2023_01_04_17_56\n",
      "./result_image/model_time_2023_01_04_17_56/Label_30.png\n"
     ]
    },
    {
     "data": {
      "text/plain": [
       "True"
      ]
     },
     "execution_count": 55,
     "metadata": {},
     "output_type": "execute_result"
    }
   ],
   "source": [
    "img_path='./result_image/'+model_name\n",
    "print(img_path)\n",
    "cf.mkdir_single(img_path)\n",
    "img_name=img_path+'/'+label_file+'.png'\n",
    "print(img_name)\n",
    "cv2.imwrite(img_name,pre_map.astype(int))"
   ]
  },
  {
   "cell_type": "code",
   "execution_count": 56,
   "metadata": {},
   "outputs": [
    {
     "data": {
      "image/png": "[encoded data removed]",
      "text/plain": [
       "<Figure size 500x1000 with 1 Axes>"
      ]
     },
     "metadata": {},
     "output_type": "display_data"
    }
   ],
   "source": [
    "ERR1=np.where(pre_map!=test_map,1,0)\n",
    "err_image_1 = spectral.imshow(classes = ERR1.astype(int),figsize =(5,10),colors=color_map)"
   ]
  },
  {
   "cell_type": "markdown",
   "metadata": {},
   "source": [
    "预测33"
   ]
  },
  {
   "cell_type": "code",
   "execution_count": 57,
   "metadata": {},
   "outputs": [
    {
     "name": "stdout",
     "output_type": "stream",
     "text": [
      "test size: (40161, 7, 7, 204)\n",
      "test_labels size: (40161,)\n",
      "test_position size: (40161, 2)\n",
      "(40161, 343, 204)\n",
      "(40161, 204, 343)\n"
     ]
    }
   ],
   "source": [
    "test_filename = './sample/Test_'+str(no)+'_33'+ '_'+str(setting.PATCH_SIZE)+'_'+ str(setting.DTYPE)+'.h5'\n",
    "with h5py.File(test_filename,'r') as readfile:\n",
    "    test=readfile['test_patch'][:]\n",
    "    test_labels=readfile['test_labels'][:]\n",
    "    test_position=readfile['test_position'][:]\n",
    "print('test size:', test.shape)\n",
    "print('test_labels size:', test_labels.shape)\n",
    "print('test_position size:', test_position.shape)\n",
    "\n",
    "\n",
    "# test_max=np.max(np.abs(test))\n",
    "# print('test max:',test_max)\n",
    "# stest=stest/stest_max\n",
    "# print('test label name:',np.unique(test_labels))\n",
    "\n",
    "test = gain_neighborhood_band(test, setting.band, setting.band_patches, setting.PATCH_SIZE)\n",
    "print(test.shape)\n",
    "test =test.transpose(0,2,1)\n",
    "print(test.shape)"
   ]
  },
  {
   "cell_type": "code",
   "execution_count": 58,
   "metadata": {},
   "outputs": [],
   "source": [
    "test_set=HyperData(test, test_labels, test_position,None)\n",
    "testloader= Data.DataLoader(dataset=test_set,batch_size=BATCH_SIZE,shuffle=False, num_workers=0)"
   ]
  },
  {
   "cell_type": "code",
   "execution_count": 59,
   "metadata": {},
   "outputs": [
    {
     "name": "stderr",
     "output_type": "stream",
     "text": [
      "C:\\Users\\h'p\\AppData\\Local\\Temp\\ipykernel_14232\\3006041116.py:12: UserWarning: Implicit dimension choice for softmax has been deprecated. Change the call to include dim=X as an argument.\n",
      "  _, tspredicted = torch.max(F.softmax(tsoutputs), 1)\n"
     ]
    },
    {
     "name": "stdout",
     "output_type": "stream",
     "text": [
      "predict testing set finished\n",
      "predict test time: 40.35819935798645\n"
     ]
    }
   ],
   "source": [
    "net.eval()\n",
    "predict_testlabels=[]\n",
    "testlabels=[]\n",
    "pre_testposition=[]\n",
    "t1=time.time()\n",
    "with torch.no_grad():\n",
    "    for tsdata in testloader:\n",
    "        tsinputs, tslabels, tsposition = tsdata\n",
    "        tsinputs = tsinputs.to(device)\n",
    "        tslabels = tslabels.to(device)\n",
    "        tsoutputs = net(tsinputs)\n",
    "        _, tspredicted = torch.max(F.softmax(tsoutputs), 1)\n",
    "        predict_testlabels.extend(tspredicted)\n",
    "        testlabels.extend(tslabels)\n",
    "        pre_testposition.extend(tsposition)\n",
    "    print('predict testing set finished')\n",
    "t2=time.time()\n",
    "print('predict test time:',t2-t1)\n",
    "# print('predict label class name:',np.unique(predict_testlabels))\n",
    "\n",
    "# predict_testlabels=torch.tensor(predict_testlabels, device='cpu')\n",
    "# testlabels=torch.tensor(testlabels,device='cpu')\n",
    "# oa_test, aa_test, kappa_test, acc_test=cf.eval_results_own(predict_testlabels,testlabels,2)\n",
    "# print('OA_test:',oa_test, '\\nAA_test:', aa_test, '\\nkappa_test:', kappa_test, '\\nacc_test:', acc_test)"
   ]
  },
  {
   "cell_type": "code",
   "execution_count": 60,
   "metadata": {},
   "outputs": [
    {
     "name": "stdout",
     "output_type": "stream",
     "text": [
      "OA_test: 0.9539852095316351 \n",
      "AA_test: 0.9595507234773317 \n",
      "kappa_test: 0.8996045485973171 \n",
      "acc_test: [0.94219021 0.97691124]\n",
      "Confusion matrix： [[24985.   315.]\n",
      " [ 1533. 13328.]]\n"
     ]
    }
   ],
   "source": [
    "predict_testlabels=torch.tensor(predict_testlabels, device='cpu')\n",
    "testlabels=torch.tensor(testlabels,device='cpu')\n",
    "# print('predict label class name:',np.unique(predict_testlabels))\n",
    "oa_test, aa_test, kappa_test, acc_test,cm=cf.eval_results_own(predict_testlabels,testlabels,2)\n",
    "print('OA_test:',oa_test, '\\nAA_test:', aa_test, '\\nkappa_test:', kappa_test, '\\nacc_test:', acc_test)\n",
    "print('Confusion matrix：',cm)"
   ]
  },
  {
   "cell_type": "code",
   "execution_count": 61,
   "metadata": {},
   "outputs": [
    {
     "name": "stdout",
     "output_type": "stream",
     "text": [
      "predict label class name: [0 1]\n"
     ]
    }
   ],
   "source": [
    "print('predict label class name:',np.unique(predict_testlabels))"
   ]
  },
  {
   "cell_type": "code",
   "execution_count": 62,
   "metadata": {},
   "outputs": [
    {
     "data": {
      "image/png": "[encoded data removed]",
      "text/plain": [
       "<Figure size 500x1000 with 1 Axes>"
      ]
     },
     "metadata": {},
     "output_type": "display_data"
    }
   ],
   "source": [
    "label_file='Label_33'\n",
    "label_map = cv2.imread(os.path.join(setting.test_label_path, label_file + '.png'), cv2.IMREAD_GRAYSCALE)\n",
    "label_image = spectral.imshow(classes = label_map,figsize =(5,10),colors=color_map)"
   ]
  },
  {
   "cell_type": "code",
   "execution_count": 63,
   "metadata": {},
   "outputs": [],
   "source": [
    "[h,w]=label_map.shape\n",
    "test_map=np.zeros([h,w])\n",
    "pre_map=np.zeros([h,w])"
   ]
  },
  {
   "cell_type": "code",
   "execution_count": 64,
   "metadata": {},
   "outputs": [
    {
     "data": {
      "image/png": "[encoded data removed]",
      "text/plain": [
       "<Figure size 500x1000 with 1 Axes>"
      ]
     },
     "metadata": {},
     "output_type": "display_data"
    }
   ],
   "source": [
    "for i in range(len(test_labels)):\n",
    "    [x,y]=test_position[i,:]\n",
    "    test_map[x,y]=test_labels[i]+1\n",
    "    \n",
    "test_image = spectral.imshow(classes = test_map.astype(int),figsize =(5,10),colors=color_map)"
   ]
  },
  {
   "cell_type": "code",
   "execution_count": 65,
   "metadata": {},
   "outputs": [
    {
     "data": {
      "image/png": "[encoded data removed]",
      "text/plain": [
       "<Figure size 500x1000 with 1 Axes>"
      ]
     },
     "metadata": {},
     "output_type": "display_data"
    }
   ],
   "source": [
    "for i in range(len(predict_testlabels)):\n",
    "    [x,y]=pre_testposition[i]\n",
    "    pre_map[x,y]=predict_testlabels[i]+1\n",
    "    \n",
    "pre_image = spectral.imshow(classes = pre_map.astype(int),figsize =(5,10),colors=color_map)"
   ]
  },
  {
   "cell_type": "code",
   "execution_count": 66,
   "metadata": {},
   "outputs": [
    {
     "name": "stdout",
     "output_type": "stream",
     "text": [
      "./result_image/model_time_2023_01_04_17_56\n",
      "目录已存在：model_time_2023_01_04_17_56\n",
      "./result_image/model_time_2023_01_04_17_56/Label_33.png\n"
     ]
    },
    {
     "data": {
      "text/plain": [
       "True"
      ]
     },
     "execution_count": 66,
     "metadata": {},
     "output_type": "execute_result"
    }
   ],
   "source": [
    "img_path='./result_image/'+model_name\n",
    "print(img_path)\n",
    "cf.mkdir_single(img_path)\n",
    "img_name=img_path+'/'+label_file+'.png'\n",
    "print(img_name)\n",
    "cv2.imwrite(img_name,pre_map.astype(int))"
   ]
  },
  {
   "cell_type": "code",
   "execution_count": 67,
   "metadata": {},
   "outputs": [
    {
     "data": {
      "image/png": "[encoded data removed]",
      "text/plain": [
       "<Figure size 500x1000 with 1 Axes>"
      ]
     },
     "metadata": {},
     "output_type": "display_data"
    }
   ],
   "source": [
    "ERR1=np.where(pre_map!=test_map,1,0)\n",
    "err_image_1 = spectral.imshow(classes = ERR1.astype(int),figsize =(5,10),colors=color_map)"
   ]
  },
  {
   "cell_type": "markdown",
   "metadata": {},
   "source": [
    "预测35"
   ]
  },
  {
   "cell_type": "code",
   "execution_count": 68,
   "metadata": {},
   "outputs": [
    {
     "name": "stdout",
     "output_type": "stream",
     "text": [
      "test size: (36524, 7, 7, 204)\n",
      "test_labels size: (36524,)\n",
      "test_position size: (36524, 2)\n",
      "(36524, 343, 204)\n",
      "(36524, 204, 343)\n"
     ]
    }
   ],
   "source": [
    "test_filename = './sample/Test_'+str(no)+'_35'+ '_'+str(setting.PATCH_SIZE)+'_'+ str(setting.DTYPE)+'.h5'\n",
    "with h5py.File(test_filename,'r') as readfile:\n",
    "    test=readfile['test_patch'][:]\n",
    "    test_labels=readfile['test_labels'][:]\n",
    "    test_position=readfile['test_position'][:]\n",
    "print('test size:', test.shape)\n",
    "print('test_labels size:', test_labels.shape)\n",
    "print('test_position size:', test_position.shape)\n",
    "\n",
    "\n",
    "# test_max=np.max(np.abs(test))\n",
    "# print('test max:',test_max)\n",
    "# stest=stest/stest_max\n",
    "# print('test label name:',np.unique(test_labels))\n",
    "\n",
    "test = gain_neighborhood_band(test, setting.band, setting.band_patches, setting.PATCH_SIZE)\n",
    "print(test.shape)\n",
    "test =test.transpose(0,2,1)\n",
    "print(test.shape)"
   ]
  },
  {
   "cell_type": "code",
   "execution_count": 69,
   "metadata": {},
   "outputs": [],
   "source": [
    "test_set=HyperData(test, test_labels, test_position,None)\n",
    "testloader= Data.DataLoader(dataset=test_set,batch_size=BATCH_SIZE,shuffle=False, num_workers=0)"
   ]
  },
  {
   "cell_type": "code",
   "execution_count": 70,
   "metadata": {},
   "outputs": [
    {
     "name": "stderr",
     "output_type": "stream",
     "text": [
      "C:\\Users\\h'p\\AppData\\Local\\Temp\\ipykernel_14232\\3006041116.py:12: UserWarning: Implicit dimension choice for softmax has been deprecated. Change the call to include dim=X as an argument.\n",
      "  _, tspredicted = torch.max(F.softmax(tsoutputs), 1)\n"
     ]
    },
    {
     "name": "stdout",
     "output_type": "stream",
     "text": [
      "predict testing set finished\n",
      "predict test time: 34.969929695129395\n"
     ]
    }
   ],
   "source": [
    "net.eval()\n",
    "predict_testlabels=[]\n",
    "testlabels=[]\n",
    "pre_testposition=[]\n",
    "t1=time.time()\n",
    "with torch.no_grad():\n",
    "    for tsdata in testloader:\n",
    "        tsinputs, tslabels, tsposition = tsdata\n",
    "        tsinputs = tsinputs.to(device)\n",
    "        tslabels = tslabels.to(device)\n",
    "        tsoutputs = net(tsinputs)\n",
    "        _, tspredicted = torch.max(F.softmax(tsoutputs), 1)\n",
    "        predict_testlabels.extend(tspredicted)\n",
    "        testlabels.extend(tslabels)\n",
    "        pre_testposition.extend(tsposition)\n",
    "    print('predict testing set finished')\n",
    "t2=time.time()\n",
    "print('predict test time:',t2-t1)\n",
    "# print('predict label class name:',np.unique(predict_testlabels))\n",
    "\n",
    "# predict_testlabels=torch.tensor(predict_testlabels, device='cpu')\n",
    "# testlabels=torch.tensor(testlabels,device='cpu')\n",
    "# oa_test, aa_test, kappa_test, acc_test=cf.eval_results_own(predict_testlabels,testlabels,2)\n",
    "# print('OA_test:',oa_test, '\\nAA_test:', aa_test, '\\nkappa_test:', kappa_test, '\\nacc_test:', acc_test)"
   ]
  },
  {
   "cell_type": "code",
   "execution_count": 71,
   "metadata": {},
   "outputs": [
    {
     "name": "stdout",
     "output_type": "stream",
     "text": [
      "OA_test: 0.9597524915124301 \n",
      "AA_test: 0.9588179860390047 \n",
      "kappa_test: 0.9136005978878251 \n",
      "acc_test: [0.9622902  0.95534577]\n",
      "Confusion matrix： [[22303.   596.]\n",
      " [  874. 12751.]]\n"
     ]
    }
   ],
   "source": [
    "predict_testlabels=torch.tensor(predict_testlabels, device='cpu')\n",
    "testlabels=torch.tensor(testlabels,device='cpu')\n",
    "# print('predict label class name:',np.unique(predict_testlabels))\n",
    "oa_test, aa_test, kappa_test, acc_test,cm=cf.eval_results_own(predict_testlabels,testlabels,2)\n",
    "print('OA_test:',oa_test, '\\nAA_test:', aa_test, '\\nkappa_test:', kappa_test, '\\nacc_test:', acc_test)\n",
    "print('Confusion matrix：',cm)"
   ]
  },
  {
   "cell_type": "code",
   "execution_count": 72,
   "metadata": {},
   "outputs": [
    {
     "name": "stdout",
     "output_type": "stream",
     "text": [
      "predict label class name: [0 1]\n"
     ]
    }
   ],
   "source": [
    "print('predict label class name:',np.unique(predict_testlabels))"
   ]
  },
  {
   "cell_type": "code",
   "execution_count": 73,
   "metadata": {},
   "outputs": [
    {
     "data": {
      "image/png": "[encoded data removed]",
      "text/plain": [
       "<Figure size 500x1000 with 1 Axes>"
      ]
     },
     "metadata": {},
     "output_type": "display_data"
    }
   ],
   "source": [
    "label_file='Label_35'\n",
    "label_map = cv2.imread(os.path.join(setting.test_label_path, label_file + '.png'), cv2.IMREAD_GRAYSCALE)\n",
    "label_image = spectral.imshow(classes = label_map,figsize =(5,10),colors=color_map)"
   ]
  },
  {
   "cell_type": "code",
   "execution_count": 74,
   "metadata": {},
   "outputs": [],
   "source": [
    "[h,w]=label_map.shape\n",
    "test_map=np.zeros([h,w])\n",
    "pre_map=np.zeros([h,w])"
   ]
  },
  {
   "cell_type": "code",
   "execution_count": 75,
   "metadata": {},
   "outputs": [
    {
     "data": {
      "image/png": "[encoded data removed]",
      "text/plain": [
       "<Figure size 500x1000 with 1 Axes>"
      ]
     },
     "metadata": {},
     "output_type": "display_data"
    }
   ],
   "source": [
    "for i in range(len(test_labels)):\n",
    "    [x,y]=test_position[i,:]\n",
    "    test_map[x,y]=test_labels[i]+1\n",
    "    \n",
    "test_image = spectral.imshow(classes = test_map.astype(int),figsize =(5,10),colors=color_map)"
   ]
  },
  {
   "cell_type": "code",
   "execution_count": 76,
   "metadata": {},
   "outputs": [
    {
     "data": {
      "image/png": "[encoded data removed]",
      "text/plain": [
       "<Figure size 500x1000 with 1 Axes>"
      ]
     },
     "metadata": {},
     "output_type": "display_data"
    }
   ],
   "source": [
    "for i in range(len(predict_testlabels)):\n",
    "    [x,y]=pre_testposition[i]\n",
    "    pre_map[x,y]=predict_testlabels[i]+1\n",
    "    \n",
    "pre_image = spectral.imshow(classes = pre_map.astype(int),figsize =(5,10),colors=color_map)"
   ]
  },
  {
   "cell_type": "code",
   "execution_count": 77,
   "metadata": {},
   "outputs": [
    {
     "name": "stdout",
     "output_type": "stream",
     "text": [
      "./result_image/model_time_2023_01_04_17_56\n",
      "目录已存在：model_time_2023_01_04_17_56\n",
      "./result_image/model_time_2023_01_04_17_56/Label_35.png\n"
     ]
    },
    {
     "data": {
      "text/plain": [
       "True"
      ]
     },
     "execution_count": 77,
     "metadata": {},
     "output_type": "execute_result"
    }
   ],
   "source": [
    "img_path='./result_image/'+model_name\n",
    "print(img_path)\n",
    "cf.mkdir_single(img_path)\n",
    "img_name=img_path+'/'+label_file+'.png'\n",
    "print(img_name)\n",
    "cv2.imwrite(img_name,pre_map.astype(int))"
   ]
  },
  {
   "cell_type": "code",
   "execution_count": 78,
   "metadata": {
    "slideshow": {
     "slide_type": "-"
    }
   },
   "outputs": [
    {
     "data": {
      "image/png": "[encoded data removed]",
      "text/plain": [
       "<Figure size 500x1000 with 1 Axes>"
      ]
     },
     "metadata": {},
     "output_type": "display_data"
    }
   ],
   "source": [
    "ERR1=np.where(pre_map!=test_map,1,0)\n",
    "err_image_1 = spectral.imshow(classes = ERR1.astype(int),figsize =(5,10),colors=color_map)"
   ]
  },
  {
   "cell_type": "markdown",
   "metadata": {},
   "source": [
    "\n",
    "预测36"
   ]
  },
  {
   "cell_type": "code",
   "execution_count": 79,
   "metadata": {},
   "outputs": [
    {
     "name": "stdout",
     "output_type": "stream",
     "text": [
      "test size: (46146, 7, 7, 204)\n",
      "test_labels size: (46146,)\n",
      "test_position size: (46146, 2)\n",
      "(46146, 343, 204)\n",
      "(46146, 204, 343)\n"
     ]
    }
   ],
   "source": [
    "test_filename = './sample/Test_'+str(no)+'_36'+ '_'+str(setting.PATCH_SIZE)+'_'+ str(setting.DTYPE)+'.h5'\n",
    "with h5py.File(test_filename,'r') as readfile:\n",
    "    test=readfile['test_patch'][:]\n",
    "    test_labels=readfile['test_labels'][:]\n",
    "    test_position=readfile['test_position'][:]\n",
    "print('test size:', test.shape)\n",
    "print('test_labels size:', test_labels.shape)\n",
    "print('test_position size:', test_position.shape)\n",
    "\n",
    "\n",
    "# test_max=np.max(np.abs(test))\n",
    "# print('test max:',test_max)\n",
    "# stest=stest/stest_max\n",
    "# print('test label name:',np.unique(test_labels))\n",
    "\n",
    "test = gain_neighborhood_band(test, setting.band, setting.band_patches, setting.PATCH_SIZE)\n",
    "print(test.shape)\n",
    "test =test.transpose(0,2,1)\n",
    "print(test.shape)"
   ]
  },
  {
   "cell_type": "code",
   "execution_count": 80,
   "metadata": {},
   "outputs": [],
   "source": [
    "test_set=HyperData(test, test_labels, test_position,None)\n",
    "testloader= Data.DataLoader(dataset=test_set,batch_size=BATCH_SIZE,shuffle=False, num_workers=0)"
   ]
  },
  {
   "cell_type": "code",
   "execution_count": 81,
   "metadata": {},
   "outputs": [
    {
     "name": "stderr",
     "output_type": "stream",
     "text": [
      "C:\\Users\\h'p\\AppData\\Local\\Temp\\ipykernel_14232\\3006041116.py:12: UserWarning: Implicit dimension choice for softmax has been deprecated. Change the call to include dim=X as an argument.\n",
      "  _, tspredicted = torch.max(F.softmax(tsoutputs), 1)\n"
     ]
    },
    {
     "name": "stdout",
     "output_type": "stream",
     "text": [
      "predict testing set finished\n",
      "predict test time: 59.36593008041382\n"
     ]
    }
   ],
   "source": [
    "net.eval()\n",
    "predict_testlabels=[]\n",
    "testlabels=[]\n",
    "pre_testposition=[]\n",
    "t1=time.time()\n",
    "with torch.no_grad():\n",
    "    for tsdata in testloader:\n",
    "        tsinputs, tslabels, tsposition = tsdata\n",
    "        tsinputs = tsinputs.to(device)\n",
    "        tslabels = tslabels.to(device)\n",
    "        tsoutputs = net(tsinputs)\n",
    "        _, tspredicted = torch.max(F.softmax(tsoutputs), 1)\n",
    "        predict_testlabels.extend(tspredicted)\n",
    "        testlabels.extend(tslabels)\n",
    "        pre_testposition.extend(tsposition)\n",
    "    print('predict testing set finished')\n",
    "t2=time.time()\n",
    "print('predict test time:',t2-t1)\n",
    "# print('predict label class name:',np.unique(predict_testlabels))\n",
    "\n",
    "# predict_testlabels=torch.tensor(predict_testlabels, device='cpu')\n",
    "# testlabels=torch.tensor(testlabels,device='cpu')\n",
    "# oa_test, aa_test, kappa_test, acc_test=cf.eval_results_own(predict_testlabels,testlabels,2)\n",
    "# print('OA_test:',oa_test, '\\nAA_test:', aa_test, '\\nkappa_test:', kappa_test, '\\nacc_test:', acc_test)"
   ]
  },
  {
   "cell_type": "code",
   "execution_count": 82,
   "metadata": {},
   "outputs": [
    {
     "name": "stdout",
     "output_type": "stream",
     "text": [
      "OA_test: 0.9885147141680752 \n",
      "AA_test: 0.9809982805891575 \n",
      "kappa_test: 0.9530713473061537 \n",
      "acc_test: [0.99147154 0.97052502]\n",
      "Confusion matrix： [[39294.   192.]\n",
      " [  338.  6322.]]\n"
     ]
    }
   ],
   "source": [
    "predict_testlabels=torch.tensor(predict_testlabels, device='cpu')\n",
    "testlabels=torch.tensor(testlabels,device='cpu')\n",
    "# print('predict label class name:',np.unique(predict_testlabels))\n",
    "oa_test, aa_test, kappa_test, acc_test,cm=cf.eval_results_own(predict_testlabels,testlabels,2)\n",
    "print('OA_test:',oa_test, '\\nAA_test:', aa_test, '\\nkappa_test:', kappa_test, '\\nacc_test:', acc_test)\n",
    "print('Confusion matrix：',cm)"
   ]
  },
  {
   "cell_type": "code",
   "execution_count": 83,
   "metadata": {},
   "outputs": [
    {
     "name": "stdout",
     "output_type": "stream",
     "text": [
      "predict label class name: [0 1]\n"
     ]
    }
   ],
   "source": [
    "print('predict label class name:',np.unique(predict_testlabels))"
   ]
  },
  {
   "cell_type": "code",
   "execution_count": 84,
   "metadata": {},
   "outputs": [
    {
     "data": {
      "image/png": "[encoded data removed]",
      "text/plain": [
       "<Figure size 500x1000 with 1 Axes>"
      ]
     },
     "metadata": {},
     "output_type": "display_data"
    }
   ],
   "source": [
    "label_file='Label_36'\n",
    "label_map = cv2.imread(os.path.join(setting.test_label_path, label_file + '.png'), cv2.IMREAD_GRAYSCALE)\n",
    "label_image = spectral.imshow(classes = label_map,figsize =(5,10),colors=color_map)"
   ]
  },
  {
   "cell_type": "code",
   "execution_count": 85,
   "metadata": {},
   "outputs": [],
   "source": [
    "[h,w]=label_map.shape\n",
    "test_map=np.zeros([h,w])\n",
    "pre_map=np.zeros([h,w])"
   ]
  },
  {
   "cell_type": "code",
   "execution_count": 86,
   "metadata": {},
   "outputs": [
    {
     "data": {
      "image/png": "[encoded data removed]",
      "text/plain": [
       "<Figure size 500x1000 with 1 Axes>"
      ]
     },
     "metadata": {},
     "output_type": "display_data"
    }
   ],
   "source": [
    "for i in range(len(test_labels)):\n",
    "    [x,y]=test_position[i,:]\n",
    "    test_map[x,y]=test_labels[i]+1\n",
    "    \n",
    "test_image = spectral.imshow(classes = test_map.astype(int),figsize =(5,10),colors=color_map)"
   ]
  },
  {
   "cell_type": "code",
   "execution_count": 87,
   "metadata": {},
   "outputs": [
    {
     "data": {
      "image/png": "[encoded data removed]",
      "text/plain": [
       "<Figure size 500x1000 with 1 Axes>"
      ]
     },
     "metadata": {},
     "output_type": "display_data"
    }
   ],
   "source": [
    "for i in range(len(predict_testlabels)):\n",
    "    [x,y]=pre_testposition[i]\n",
    "    pre_map[x,y]=predict_testlabels[i]+1\n",
    "    \n",
    "pre_image = spectral.imshow(classes = pre_map.astype(int),figsize =(5,10),colors=color_map)"
   ]
  },
  {
   "cell_type": "code",
   "execution_count": 88,
   "metadata": {},
   "outputs": [
    {
     "name": "stdout",
     "output_type": "stream",
     "text": [
      "./result_image/model_time_2023_01_04_17_56\n",
      "目录已存在：model_time_2023_01_04_17_56\n",
      "./result_image/model_time_2023_01_04_17_56/Label_36.png\n"
     ]
    },
    {
     "data": {
      "text/plain": [
       "True"
      ]
     },
     "execution_count": 88,
     "metadata": {},
     "output_type": "execute_result"
    }
   ],
   "source": [
    "img_path='./result_image/'+model_name\n",
    "print(img_path)\n",
    "cf.mkdir_single(img_path)\n",
    "img_name=img_path+'/'+label_file+'.png'\n",
    "print(img_name)\n",
    "cv2.imwrite(img_name,pre_map.astype(int))"
   ]
  },
  {
   "cell_type": "code",
   "execution_count": 89,
   "metadata": {},
   "outputs": [
    {
     "data": {
      "image/png": "[encoded data removed]",
      "text/plain": [
       "<Figure size 500x1000 with 1 Axes>"
      ]
     },
     "metadata": {},
     "output_type": "display_data"
    }
   ],
   "source": [
    "ERR1=np.where(pre_map!=test_map,1,0)\n",
    "err_image_1 = spectral.imshow(classes = ERR1.astype(int),figsize =(5,10),colors=color_map)"
   ]
  },
  {
   "cell_type": "code",
   "execution_count": null,
   "metadata": {},
   "outputs": [],
   "source": []
  },
  {
   "cell_type": "code",
   "execution_count": null,
   "metadata": {},
   "outputs": [],
   "source": []
  }
 ],
 "metadata": {
  "kernelspec": {
   "display_name": "Python [conda env:env-torch] *",
   "language": "python",
   "name": "conda-env-env-torch-py"
  },
  "language_info": {
   "codemirror_mode": {
    "name": "ipython",
    "version": 3
   },
   "file_extension": ".py",
   "mimetype": "text/x-python",
   "name": "python",
   "nbconvert_exporter": "python",
   "pygments_lexer": "ipython3",
   "version": "3.9.15"
  }
 },
 "nbformat": 4,
 "nbformat_minor": 2
}
