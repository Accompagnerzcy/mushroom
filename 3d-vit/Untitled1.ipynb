{
 "cells": [
  {
   "cell_type": "code",
   "execution_count": 5,
   "id": "e0dd1be4",
   "metadata": {},
   "outputs": [],
   "source": [
    "import scipy.io as scio\n",
    "import cv2\n",
    "import numpy as np"
   ]
  },
  {
   "cell_type": "code",
   "execution_count": 2,
   "id": "7d1e63c0",
   "metadata": {},
   "outputs": [],
   "source": [
    "input_mat = scio.loadmat('F:\\\\code\\\\agaricus_bisporus\\\\data2\\\\train_data\\\\label\\\\label_20.mat')['img']"
   ]
  },
  {
   "cell_type": "code",
   "execution_count": 3,
   "id": "0503ac09",
   "metadata": {},
   "outputs": [],
   "source": [
    "label_map = cv2.imread('F:\\\\code\\\\agaricus_bisporus\\\\data2\\\\train_data\\\\label\\\\Label_20.png', cv2.IMREAD_GRAYSCALE)"
   ]
  },
  {
   "cell_type": "code",
   "execution_count": 7,
   "id": "323e2147",
   "metadata": {},
   "outputs": [
    {
     "name": "stdout",
     "output_type": "stream",
     "text": [
      "(512, 512)\n",
      "2\n",
      "0\n"
     ]
    }
   ],
   "source": [
    "print(input_mat.shape)\n",
    "print(np.max(input_mat))\n",
    "print(np.min(input_mat))"
   ]
  },
  {
   "cell_type": "code",
   "execution_count": 8,
   "id": "833d2f9f",
   "metadata": {},
   "outputs": [
    {
     "name": "stdout",
     "output_type": "stream",
     "text": [
      "(512, 512)\n",
      "2\n",
      "0\n"
     ]
    }
   ],
   "source": [
    "print(label_map.shape)\n",
    "print(np.max(label_map))\n",
    "print(np.min(label_map))"
   ]
  },
  {
   "cell_type": "code",
   "execution_count": 9,
   "id": "bcc125f5",
   "metadata": {},
   "outputs": [
    {
     "name": "stdout",
     "output_type": "stream",
     "text": [
      "0\n"
     ]
    }
   ],
   "source": [
    "err=label_map-input_mat\n",
    "print(np.max(err))"
   ]
  },
  {
   "cell_type": "code",
   "execution_count": null,
   "id": "869b6e2b",
   "metadata": {},
   "outputs": [],
   "source": []
  }
 ],
 "metadata": {
  "kernelspec": {
   "display_name": "Python [conda env:env-torch] *",
   "language": "python",
   "name": "conda-env-env-torch-py"
  },
  "language_info": {
   "codemirror_mode": {
    "name": "ipython",
    "version": 3
   },
   "file_extension": ".py",
   "mimetype": "text/x-python",
   "name": "python",
   "nbconvert_exporter": "python",
   "pygments_lexer": "ipython3",
   "version": "3.9.15"
  }
 },
 "nbformat": 4,
 "nbformat_minor": 5
}
