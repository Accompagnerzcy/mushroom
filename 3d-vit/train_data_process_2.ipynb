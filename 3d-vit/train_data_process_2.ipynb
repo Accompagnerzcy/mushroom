{
 "cells": [
  {
   "cell_type": "code",
   "execution_count": 1,
   "metadata": {},
   "outputs": [],
   "source": [
    "import h5py\n",
    "import scipy.io as scio\n",
    "import os\n",
    "import numpy as np\n",
    "import matplotlib.pyplot as plt\n",
    "import torch\n",
    "import setting_2 as setting\n",
    "from random import shuffle\n",
    "import math\n",
    "from sklearn.decomposition import PCA\n",
    "import cv2"
   ]
  },
  {
   "cell_type": "code",
   "execution_count": 2,
   "metadata": {},
   "outputs": [
    {
     "name": "stdout",
     "output_type": "stream",
     "text": [
      "./sample/Train_2_38\n"
     ]
    }
   ],
   "source": [
    "NO='38'\n",
    "\n",
    "data_file =NO  # File name of the data set\n",
    "data_name = 'X'  # Matrix name of the data set within the data file\n",
    "label_file='Label_'+NO\n",
    "no=setting.train_no\n",
    "train_data_name='./sample/Train_'+str(no)+'_'+NO\n",
    "print(train_data_name)"
   ]
  },
  {
   "cell_type": "code",
   "execution_count": 3,
   "metadata": {},
   "outputs": [],
   "source": [
    "def patch_data(height_index, width_index):\n",
    "    height_slice = slice(height_index, height_index + PATCH_SIZE)\n",
    "    width_slice = slice(width_index, width_index + PATCH_SIZE)\n",
    "    patches = data_norm[height_slice, width_slice,:]\n",
    "    return np.array(patches)"
   ]
  },
  {
   "cell_type": "code",
   "execution_count": 4,
   "metadata": {},
   "outputs": [
    {
     "name": "stdout",
     "output_type": "stream",
     "text": [
      "(512, 512, 204)\n",
      "(512, 512)\n",
      "[0 1 2]\n"
     ]
    }
   ],
   "source": [
    "# 加载数据\n",
    "# input_mat = scio.loadmat(os.path.join(setting.train_data_path, data_file + '.mat'))[data_name]\n",
    "input_mat = h5py.File(os.path.join(setting.train_data_path, data_file + '.mat')) [data_name]\n",
    "input_mat=np.array(input_mat).transpose(2,1,0)\n",
    "label_map = cv2.imread(os.path.join(setting.train_label_path, label_file + '.png'), cv2.IMREAD_GRAYSCALE)\n",
    "\n",
    "print(input_mat.shape)\n",
    "print(label_map.shape)\n",
    "print(np.unique(label_map))"
   ]
  },
  {
   "cell_type": "code",
   "execution_count": 5,
   "metadata": {},
   "outputs": [
    {
     "name": "stdout",
     "output_type": "stream",
     "text": [
      "HEIGHT= 512 WIDTH= 512 BAND= 204\n",
      "PATCH_SIZE= 7\n",
      "PATCH_IDX= 3\n",
      "CLASS_NUM= 3\n",
      "DTYPE: float64\n"
     ]
    }
   ],
   "source": [
    "#打印参数 \n",
    "[HEIGHT, WIDTH, BAND] = input_mat.shape\n",
    "print('HEIGHT=',HEIGHT, 'WIDTH=',WIDTH, 'BAND=',BAND)\n",
    "PATCH_SIZE = setting.PATCH_SIZE\n",
    "print('PATCH_SIZE=',PATCH_SIZE)\n",
    "PATCH_IDX = int((PATCH_SIZE - 1) / 2)\n",
    "print('PATCH_IDX=', PATCH_IDX)\n",
    "CLASS_NUM = setting.CLASS_NUM\n",
    "print('CLASS_NUM=',CLASS_NUM)\n",
    "DTYPE=setting.DTYPE\n",
    "print('DTYPE:', DTYPE)"
   ]
  },
  {
   "cell_type": "code",
   "execution_count": 6,
   "metadata": {},
   "outputs": [
    {
     "name": "stdout",
     "output_type": "stream",
     "text": [
      "data max: 1.218181848526001\n",
      "data min: 0.06063193827867508\n"
     ]
    }
   ],
   "source": [
    "input_data=input_mat\n",
    "print('data max:',np.max(input_data))\n",
    "print('data min:',np.min(input_data))"
   ]
  },
  {
   "cell_type": "code",
   "execution_count": 7,
   "metadata": {},
   "outputs": [
    {
     "name": "stdout",
     "output_type": "stream",
     "text": [
      "size after pad: (518, 518, 204) \n",
      "max: 1.218181848526001 \n",
      "min: 0.06063193827867508\n"
     ]
    }
   ],
   "source": [
    "# pad\n",
    "input_pad = np.zeros(((HEIGHT + PATCH_SIZE - 1), (WIDTH + PATCH_SIZE - 1), input_data.shape[2]))\n",
    "input_pad[PATCH_IDX:(HEIGHT + PATCH_IDX), PATCH_IDX:(WIDTH + PATCH_IDX), :] = input_data[:]\n",
    "input_pad[PATCH_IDX:(HEIGHT + PATCH_IDX), :PATCH_IDX, :] = input_data[:, (PATCH_IDX - 1)::-1, :]\n",
    "input_pad[PATCH_IDX:(HEIGHT + PATCH_IDX), (WIDTH + PATCH_IDX):, :] = input_data[:, :(WIDTH - PATCH_IDX - 1):-1, :]\n",
    "input_pad[:PATCH_IDX, :, :] = input_pad[(PATCH_IDX * 2 - 1):(PATCH_IDX - 1):-1, :, :]\n",
    "input_pad[(HEIGHT + PATCH_IDX):, :, :] = input_pad[(HEIGHT + PATCH_IDX - 1):(HEIGHT - 1):-1, :, :]\n",
    "print('size after pad:',input_pad.shape,'\\nmax:',np.max(input_pad),'\\nmin:',np.min(input_pad))"
   ]
  },
  {
   "cell_type": "code",
   "execution_count": 8,
   "metadata": {},
   "outputs": [
    {
     "name": "stdout",
     "output_type": "stream",
     "text": [
      "(518, 518, 204)\n",
      "max: 1.218181848526001 \n",
      "min: 0.06063193827867508\n"
     ]
    }
   ],
   "source": [
    "data_norm=input_pad.astype(DTYPE)\n",
    "print(data_norm.shape)\n",
    "print('max:',np.max(data_norm),'\\nmin:',np.min(data_norm))"
   ]
  },
  {
   "cell_type": "code",
   "execution_count": 9,
   "metadata": {},
   "outputs": [
    {
     "name": "stdout",
     "output_type": "stream",
     "text": [
      "CLASS 0\t 0\n",
      "CLASS 1\t 1357\n",
      "CLASS 2\t 1241\n"
     ]
    }
   ],
   "source": [
    "# 按类别归整样本\n",
    "CLASSES = []\n",
    "POSITION=[]\n",
    "for i in range(CLASS_NUM):\n",
    "    CLASSES.append([])\n",
    "    POSITION.append([])\n",
    "for i in range(HEIGHT):\n",
    "    for j in range(WIDTH):\n",
    "        temp_y = label_map[i, j]\n",
    "        if temp_y != 0:\n",
    "            temp_x = patch_data(i, j)\n",
    "            CLASSES[temp_y].append(temp_x)\n",
    "            POSITION[temp_y].append([i,j])\n",
    "for i in range(CLASS_NUM):\n",
    "    print ('CLASS',str(i) + '\\t',len(CLASSES[i]))"
   ]
  },
  {
   "cell_type": "code",
   "execution_count": 10,
   "metadata": {},
   "outputs": [
    {
     "name": "stdout",
     "output_type": "stream",
     "text": [
      "0\n",
      "this class is empty\n",
      "1\n",
      "current class data size: (1357, 7, 7, 204)\n",
      "2\n",
      "current class data size: (1241, 7, 7, 204)\n",
      "\n",
      "Total num of Training patches: 2598\n",
      "\n",
      "label class name: [0 1]\n"
     ]
    }
   ],
   "source": [
    "TRAIN_PATCH, TRAIN_LABELS = [], []\n",
    "# class_name=setting.class_name\n",
    "# for c in class_name:  # for each class\n",
    "for c in range(CLASS_NUM):\n",
    "    print(c)\n",
    "    num=len(CLASSES[c])\n",
    "    if num==0:\n",
    "        print('this class is empty')\n",
    "        continue\n",
    "    randIdx = np.arange(num)\n",
    "    shuffle(randIdx)  # Randomly shuffle patches in the class\n",
    "    current_class_data = np.array(CLASSES[c],dtype = DTYPE)\n",
    "    rand_current_class_data = current_class_data[randIdx,:,:,:]\n",
    "    print('current class data size:', rand_current_class_data.shape)\n",
    "    if c==1:\n",
    "        TRAIN_LABELS.extend(np.full(num, 0, dtype=int))\n",
    "    elif c==2:\n",
    "        TRAIN_LABELS.extend(np.full(num, 1, dtype=int))\n",
    "    TRAIN_PATCH.extend(rand_current_class_data)\n",
    "#     TRAIN_LABELS.extend(np.full(num, c, dtype=int))\n",
    "TRAIN_PATCH = np.array(TRAIN_PATCH, dtype=DTYPE)\n",
    "print ('\\nTotal num of Training patches: %d\\n' % len(TRAIN_PATCH))\n",
    "print('label class name:',np.unique(TRAIN_LABELS))"
   ]
  },
  {
   "cell_type": "code",
   "execution_count": 11,
   "metadata": {},
   "outputs": [
    {
     "name": "stdout",
     "output_type": "stream",
     "text": [
      "Writing: ./sample/Train_2_38_7_float64.h5\n",
      "Successfully save training data set!\n"
     ]
    }
   ],
   "source": [
    "# save files\n",
    "# 1. Training data\n",
    "file_name = train_data_name +'_'+ str(PATCH_SIZE) +'_'+ str(DTYPE) +'.h5'\n",
    "print ('Writing: ' + file_name)\n",
    "with h5py.File(file_name, 'w') as file:\n",
    "    file.create_dataset('train_patch', data=TRAIN_PATCH)\n",
    "    file.create_dataset('train_labels', data=TRAIN_LABELS, dtype='i8')\n",
    "print ('Successfully save training data set!')"
   ]
  },
  {
   "cell_type": "code",
   "execution_count": null,
   "metadata": {},
   "outputs": [],
   "source": []
  }
 ],
 "metadata": {
  "kernelspec": {
   "display_name": "Python [conda env:env-torch] *",
   "language": "python",
   "name": "conda-env-env-torch-py"
  },
  "language_info": {
   "codemirror_mode": {
    "name": "ipython",
    "version": 3
   },
   "file_extension": ".py",
   "mimetype": "text/x-python",
   "name": "python",
   "nbconvert_exporter": "python",
   "pygments_lexer": "ipython3",
   "version": "3.9.15"
  }
 },
 "nbformat": 4,
 "nbformat_minor": 2
}
