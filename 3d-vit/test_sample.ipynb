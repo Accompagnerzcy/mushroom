{
 "cells": [
  {
   "cell_type": "markdown",
   "metadata": {},
   "source": [
    "包含图片23,25,27,30,33,35,36"
   ]
  },
  {
   "cell_type": "code",
   "execution_count": 1,
   "metadata": {},
   "outputs": [],
   "source": [
    "import h5py\n",
    "import scipy.io as scio\n",
    "import os\n",
    "import numpy as np\n",
    "import setting_2 as setting\n",
    "from random import shuffle\n",
    "import math"
   ]
  },
  {
   "cell_type": "code",
   "execution_count": 2,
   "metadata": {},
   "outputs": [
    {
     "name": "stdout",
     "output_type": "stream",
     "text": [
      "PATCH_SIZE= 7\n",
      "CLASS_NUM= 2\n",
      "DTYPE: float64\n"
     ]
    }
   ],
   "source": [
    "PATCH_SIZE = setting.PATCH_SIZE\n",
    "print('PATCH_SIZE=',PATCH_SIZE)\n",
    "CLASS_NUM =2\n",
    "print('CLASS_NUM=',CLASS_NUM)\n",
    "DTYPE=setting.DTYPE\n",
    "print('DTYPE:', DTYPE)"
   ]
  },
  {
   "cell_type": "code",
   "execution_count": 3,
   "metadata": {},
   "outputs": [],
   "source": [
    "VAL_PATCH, VAL_LABEL =[], []\n",
    "# class_name=setting.class_name"
   ]
  },
  {
   "cell_type": "code",
   "execution_count": 4,
   "metadata": {},
   "outputs": [],
   "source": [
    "no=setting.test_no"
   ]
  },
  {
   "cell_type": "code",
   "execution_count": 5,
   "metadata": {},
   "outputs": [
    {
     "name": "stdout",
     "output_type": "stream",
     "text": [
      "test_patch size: (47013, 7, 7, 204)\n",
      "test_label length: 47013\n"
     ]
    }
   ],
   "source": [
    "# 加载训练样本23\n",
    "test_filename = './sample/Test_'+str(no)+'_23' +'_'+ str(PATCH_SIZE) +'_'+ str(DTYPE) +'.h5'\n",
    "with h5py.File(test_filename,'r') as readfile:\n",
    "    test_patch = readfile['test_patch'][:]\n",
    "    test_labels = readfile['test_labels'][:]    \n",
    "print('test_patch size:',test_patch.shape)\n",
    "print('test_label length:', len(test_labels))"
   ]
  },
  {
   "cell_type": "code",
   "execution_count": 6,
   "metadata": {},
   "outputs": [
    {
     "name": "stdout",
     "output_type": "stream",
     "text": [
      "CLASS 0\t 34910\n",
      "CLASS 1\t 12103\n"
     ]
    }
   ],
   "source": [
    "CLASSES = []\n",
    "for i in range(CLASS_NUM):\n",
    "    CLASSES.append([])\n",
    "for i in range(len(test_labels)):\n",
    "    temp_y = test_labels[i]\n",
    "    temp_x = test_patch[i,:,:,:]\n",
    "    CLASSES[temp_y].append(temp_x)\n",
    "for i in range(CLASS_NUM):\n",
    "    print('CLASS',str(i) + '\\t',len(CLASSES[i]))"
   ]
  },
  {
   "cell_type": "code",
   "execution_count": 7,
   "metadata": {},
   "outputs": [
    {
     "name": "stdout",
     "output_type": "stream",
     "text": [
      "0\n",
      "current class data size: (34910, 7, 7, 204)\n",
      "1\n",
      "current class data size: (12103, 7, 7, 204)\n",
      "val data size: 1000\n",
      "val label size: 1000\n"
     ]
    }
   ],
   "source": [
    "for c in range(CLASS_NUM):  # for each class\n",
    "    print(c)\n",
    "    if len(CLASSES[c])==0:\n",
    "        print('this class is empty')\n",
    "        continue\n",
    "    randIdx = np.arange(len(CLASSES[c]))\n",
    "    shuffle(randIdx)  # Randomly shuffle patches in the class\n",
    "    current_class_data = np.array(CLASSES[c],dtype = DTYPE)\n",
    "    rand_current_class_data = current_class_data[randIdx,:,:,:]\n",
    "    print('current class data size:', rand_current_class_data.shape)    \n",
    "    train_split_size=setting.train_num\n",
    "    val_split_size=setting.val_num\n",
    "    \n",
    "    VAL_PATCH.extend(rand_current_class_data[:val_split_size])\n",
    "    VAL_LABEL.extend(np.full(val_split_size, c, dtype=int))\n",
    "\n",
    "print('val data size:',len(VAL_PATCH))\n",
    "print('val label size:',len(VAL_LABEL))"
   ]
  },
  {
   "cell_type": "code",
   "execution_count": 8,
   "metadata": {},
   "outputs": [
    {
     "name": "stdout",
     "output_type": "stream",
     "text": [
      "test_patch size: (40180, 7, 7, 204)\n",
      "test_label length: 40180\n",
      "CLASS 0\t 22462\n",
      "CLASS 1\t 17718\n",
      "0\n",
      "current class data size: (22462, 7, 7, 204)\n",
      "1\n",
      "current class data size: (17718, 7, 7, 204)\n",
      "val data size: 2000\n",
      "val label size: 2000\n"
     ]
    }
   ],
   "source": [
    "# 加载训练样本25\n",
    "test_filename = './sample/Test_'+str(no)+'_25' +'_'+ str(PATCH_SIZE) +'_'+ str(DTYPE) +'.h5'\n",
    "with h5py.File(test_filename,'r') as readfile:\n",
    "    test_patch = readfile['test_patch'][:]\n",
    "    test_labels = readfile['test_labels'][:]    \n",
    "print('test_patch size:',test_patch.shape)\n",
    "print('test_label length:', len(test_labels))\n",
    "\n",
    "\n",
    "CLASSES = []\n",
    "for i in range(CLASS_NUM):\n",
    "    CLASSES.append([])\n",
    "for i in range(len(test_labels)):\n",
    "    temp_y = test_labels[i]\n",
    "    temp_x = test_patch[i,:,:,:]\n",
    "    CLASSES[temp_y].append(temp_x)\n",
    "for i in range(CLASS_NUM):\n",
    "    print('CLASS',str(i) + '\\t',len(CLASSES[i]))\n",
    "\n",
    "    \n",
    "for c in range(CLASS_NUM):  # for each class\n",
    "    print(c)\n",
    "    if len(CLASSES[c])==0:\n",
    "        print('this class is empty')\n",
    "        continue\n",
    "    randIdx = np.arange(len(CLASSES[c]))\n",
    "    shuffle(randIdx)  # Randomly shuffle patches in the class\n",
    "    current_class_data = np.array(CLASSES[c],dtype = DTYPE)\n",
    "    rand_current_class_data = current_class_data[randIdx,:,:,:]\n",
    "    print('current class data size:', rand_current_class_data.shape)    \n",
    "    train_split_size=setting.train_num\n",
    "    val_split_size=setting.val_num\n",
    "    \n",
    "    VAL_PATCH.extend(rand_current_class_data[:val_split_size])\n",
    "    VAL_LABEL.extend(np.full(val_split_size, c, dtype=int))\n",
    "\n",
    "print('val data size:',len(VAL_PATCH))\n",
    "print('val label size:',len(VAL_LABEL))"
   ]
  },
  {
   "cell_type": "code",
   "execution_count": 9,
   "metadata": {},
   "outputs": [
    {
     "name": "stdout",
     "output_type": "stream",
     "text": [
      "test_patch size: (45596, 7, 7, 204)\n",
      "test_label length: 45596\n",
      "CLASS 0\t 15401\n",
      "CLASS 1\t 30195\n",
      "0\n",
      "current class data size: (15401, 7, 7, 204)\n",
      "1\n",
      "current class data size: (30195, 7, 7, 204)\n",
      "val data size: 3000\n",
      "val label size: 3000\n"
     ]
    }
   ],
   "source": [
    "# 加载训练样本27\n",
    "test_filename = './sample/Test_'+str(no)+'_27' +'_'+ str(PATCH_SIZE) +'_'+ str(DTYPE) +'.h5'\n",
    "with h5py.File(test_filename,'r') as readfile:\n",
    "    test_patch = readfile['test_patch'][:]\n",
    "    test_labels = readfile['test_labels'][:]    \n",
    "print('test_patch size:',test_patch.shape)\n",
    "print('test_label length:', len(test_labels))\n",
    "\n",
    "\n",
    "CLASSES = []\n",
    "for i in range(CLASS_NUM):\n",
    "    CLASSES.append([])\n",
    "for i in range(len(test_labels)):\n",
    "    temp_y = test_labels[i]\n",
    "    temp_x = test_patch[i,:,:,:]\n",
    "    CLASSES[temp_y].append(temp_x)\n",
    "for i in range(CLASS_NUM):\n",
    "    print('CLASS',str(i) + '\\t',len(CLASSES[i]))\n",
    "\n",
    "    \n",
    "for c in range(CLASS_NUM):  # for each class\n",
    "    print(c)\n",
    "    if len(CLASSES[c])==0:\n",
    "        print('this class is empty')\n",
    "        continue\n",
    "    randIdx = np.arange(len(CLASSES[c]))\n",
    "    shuffle(randIdx)  # Randomly shuffle patches in the class\n",
    "    current_class_data = np.array(CLASSES[c],dtype = DTYPE)\n",
    "    rand_current_class_data = current_class_data[randIdx,:,:,:]\n",
    "    print('current class data size:', rand_current_class_data.shape)    \n",
    "    train_split_size=setting.train_num\n",
    "    val_split_size=setting.val_num\n",
    "    \n",
    "    VAL_PATCH.extend(rand_current_class_data[:val_split_size])\n",
    "    VAL_LABEL.extend(np.full(val_split_size, c, dtype=int))\n",
    "\n",
    "print('val data size:',len(VAL_PATCH))\n",
    "print('val label size:',len(VAL_LABEL))"
   ]
  },
  {
   "cell_type": "code",
   "execution_count": 10,
   "metadata": {},
   "outputs": [
    {
     "name": "stdout",
     "output_type": "stream",
     "text": [
      "test_patch size: (45855, 7, 7, 204)\n",
      "test_label length: 45855\n",
      "CLASS 0\t 29988\n",
      "CLASS 1\t 15867\n",
      "0\n",
      "current class data size: (29988, 7, 7, 204)\n",
      "1\n",
      "current class data size: (15867, 7, 7, 204)\n",
      "val data size: 4000\n",
      "val label size: 4000\n"
     ]
    }
   ],
   "source": [
    "# 加载训练样本30\n",
    "test_filename = './sample/Test_'+str(no)+'_30' +'_'+ str(PATCH_SIZE) +'_'+ str(DTYPE) +'.h5'\n",
    "with h5py.File(test_filename,'r') as readfile:\n",
    "    test_patch = readfile['test_patch'][:]\n",
    "    test_labels = readfile['test_labels'][:]    \n",
    "print('test_patch size:',test_patch.shape)\n",
    "print('test_label length:', len(test_labels))\n",
    "\n",
    "\n",
    "CLASSES = []\n",
    "for i in range(CLASS_NUM):\n",
    "    CLASSES.append([])\n",
    "for i in range(len(test_labels)):\n",
    "    temp_y = test_labels[i]\n",
    "    temp_x = test_patch[i,:,:,:]\n",
    "    CLASSES[temp_y].append(temp_x)\n",
    "for i in range(CLASS_NUM):\n",
    "    print('CLASS',str(i) + '\\t',len(CLASSES[i]))\n",
    "\n",
    "    \n",
    "for c in range(CLASS_NUM):  # for each class\n",
    "    print(c)\n",
    "    if len(CLASSES[c])==0:\n",
    "        print('this class is empty')\n",
    "        continue\n",
    "    randIdx = np.arange(len(CLASSES[c]))\n",
    "    shuffle(randIdx)  # Randomly shuffle patches in the class\n",
    "    current_class_data = np.array(CLASSES[c],dtype = DTYPE)\n",
    "    rand_current_class_data = current_class_data[randIdx,:,:,:]\n",
    "    print('current class data size:', rand_current_class_data.shape)    \n",
    "    train_split_size=setting.train_num\n",
    "    val_split_size=setting.val_num\n",
    "    \n",
    "    VAL_PATCH.extend(rand_current_class_data[:val_split_size])\n",
    "    VAL_LABEL.extend(np.full(val_split_size, c, dtype=int))\n",
    "\n",
    "print('val data size:',len(VAL_PATCH))\n",
    "print('val label size:',len(VAL_LABEL))"
   ]
  },
  {
   "cell_type": "code",
   "execution_count": 11,
   "metadata": {},
   "outputs": [
    {
     "name": "stdout",
     "output_type": "stream",
     "text": [
      "test_patch size: (40161, 7, 7, 204)\n",
      "test_label length: 40161\n",
      "CLASS 0\t 26518\n",
      "CLASS 1\t 13643\n",
      "0\n",
      "current class data size: (26518, 7, 7, 204)\n",
      "1\n",
      "current class data size: (13643, 7, 7, 204)\n",
      "val data size: 5000\n",
      "val label size: 5000\n"
     ]
    }
   ],
   "source": [
    "# 加载训练样本33\n",
    "test_filename = './sample/Test_'+str(no)+'_33' +'_'+ str(PATCH_SIZE) +'_'+ str(DTYPE) +'.h5'\n",
    "with h5py.File(test_filename,'r') as readfile:\n",
    "    test_patch = readfile['test_patch'][:]\n",
    "    test_labels = readfile['test_labels'][:]    \n",
    "print('test_patch size:',test_patch.shape)\n",
    "print('test_label length:', len(test_labels))\n",
    "\n",
    "\n",
    "CLASSES = []\n",
    "for i in range(CLASS_NUM):\n",
    "    CLASSES.append([])\n",
    "for i in range(len(test_labels)):\n",
    "    temp_y = test_labels[i]\n",
    "    temp_x = test_patch[i,:,:,:]\n",
    "    CLASSES[temp_y].append(temp_x)\n",
    "for i in range(CLASS_NUM):\n",
    "    print('CLASS',str(i) + '\\t',len(CLASSES[i]))\n",
    "\n",
    "    \n",
    "for c in range(CLASS_NUM):  # for each class\n",
    "    print(c)\n",
    "    if len(CLASSES[c])==0:\n",
    "        print('this class is empty')\n",
    "        continue\n",
    "    randIdx = np.arange(len(CLASSES[c]))\n",
    "    shuffle(randIdx)  # Randomly shuffle patches in the class\n",
    "    current_class_data = np.array(CLASSES[c],dtype = DTYPE)\n",
    "    rand_current_class_data = current_class_data[randIdx,:,:,:]\n",
    "    print('current class data size:', rand_current_class_data.shape)    \n",
    "    train_split_size=setting.train_num\n",
    "    val_split_size=setting.val_num\n",
    "    \n",
    "    VAL_PATCH.extend(rand_current_class_data[:val_split_size])\n",
    "    VAL_LABEL.extend(np.full(val_split_size, c, dtype=int))\n",
    "\n",
    "print('val data size:',len(VAL_PATCH))\n",
    "print('val label size:',len(VAL_LABEL))"
   ]
  },
  {
   "cell_type": "code",
   "execution_count": 12,
   "metadata": {},
   "outputs": [
    {
     "name": "stdout",
     "output_type": "stream",
     "text": [
      "test_patch size: (36524, 7, 7, 204)\n",
      "test_label length: 36524\n",
      "CLASS 0\t 23177\n",
      "CLASS 1\t 13347\n",
      "0\n",
      "current class data size: (23177, 7, 7, 204)\n",
      "1\n",
      "current class data size: (13347, 7, 7, 204)\n",
      "val data size: 6000\n",
      "val label size: 6000\n"
     ]
    }
   ],
   "source": [
    "# 加载训练样本35\n",
    "test_filename = './sample/Test_'+str(no)+'_35' +'_'+ str(PATCH_SIZE) +'_'+ str(DTYPE) +'.h5'\n",
    "with h5py.File(test_filename,'r') as readfile:\n",
    "    test_patch = readfile['test_patch'][:]\n",
    "    test_labels = readfile['test_labels'][:]    \n",
    "print('test_patch size:',test_patch.shape)\n",
    "print('test_label length:', len(test_labels))\n",
    "\n",
    "\n",
    "CLASSES = []\n",
    "for i in range(CLASS_NUM):\n",
    "    CLASSES.append([])\n",
    "for i in range(len(test_labels)):\n",
    "    temp_y = test_labels[i]\n",
    "    temp_x = test_patch[i,:,:,:]\n",
    "    CLASSES[temp_y].append(temp_x)\n",
    "for i in range(CLASS_NUM):\n",
    "    print('CLASS',str(i) + '\\t',len(CLASSES[i]))\n",
    "\n",
    "    \n",
    "for c in range(CLASS_NUM):  # for each class\n",
    "    print(c)\n",
    "    if len(CLASSES[c])==0:\n",
    "        print('this class is empty')\n",
    "        continue\n",
    "    randIdx = np.arange(len(CLASSES[c]))\n",
    "    shuffle(randIdx)  # Randomly shuffle patches in the class\n",
    "    current_class_data = np.array(CLASSES[c],dtype = DTYPE)\n",
    "    rand_current_class_data = current_class_data[randIdx,:,:,:]\n",
    "    print('current class data size:', rand_current_class_data.shape)    \n",
    "    train_split_size=setting.train_num\n",
    "    val_split_size=setting.val_num\n",
    "    \n",
    "    VAL_PATCH.extend(rand_current_class_data[:val_split_size])\n",
    "    VAL_LABEL.extend(np.full(val_split_size, c, dtype=int))\n",
    "\n",
    "print('val data size:',len(VAL_PATCH))\n",
    "print('val label size:',len(VAL_LABEL))"
   ]
  },
  {
   "cell_type": "code",
   "execution_count": 13,
   "metadata": {},
   "outputs": [
    {
     "name": "stdout",
     "output_type": "stream",
     "text": [
      "test_patch size: (46146, 7, 7, 204)\n",
      "test_label length: 46146\n",
      "CLASS 0\t 39632\n",
      "CLASS 1\t 6514\n",
      "0\n",
      "current class data size: (39632, 7, 7, 204)\n",
      "1\n",
      "current class data size: (6514, 7, 7, 204)\n",
      "val data size: 7000\n",
      "val label size: 7000\n"
     ]
    }
   ],
   "source": [
    "# 加载训练样本36\n",
    "test_filename = './sample/Test_'+str(no)+'_36' +'_'+ str(PATCH_SIZE) +'_'+ str(DTYPE) +'.h5'\n",
    "with h5py.File(test_filename,'r') as readfile:\n",
    "    test_patch = readfile['test_patch'][:]\n",
    "    test_labels = readfile['test_labels'][:]    \n",
    "print('test_patch size:',test_patch.shape)\n",
    "print('test_label length:', len(test_labels))\n",
    "\n",
    "\n",
    "CLASSES = []\n",
    "for i in range(CLASS_NUM):\n",
    "    CLASSES.append([])\n",
    "for i in range(len(test_labels)):\n",
    "    temp_y = test_labels[i]\n",
    "    temp_x = test_patch[i,:,:,:]\n",
    "    CLASSES[temp_y].append(temp_x)\n",
    "for i in range(CLASS_NUM):\n",
    "    print('CLASS',str(i) + '\\t',len(CLASSES[i]))\n",
    "\n",
    "    \n",
    "for c in range(CLASS_NUM):  # for each class\n",
    "    print(c)\n",
    "    if len(CLASSES[c])==0:\n",
    "        print('this class is empty')\n",
    "        continue\n",
    "    randIdx = np.arange(len(CLASSES[c]))\n",
    "    shuffle(randIdx)  # Randomly shuffle patches in the class\n",
    "    current_class_data = np.array(CLASSES[c],dtype = DTYPE)\n",
    "    rand_current_class_data = current_class_data[randIdx,:,:,:]\n",
    "    print('current class data size:', rand_current_class_data.shape)    \n",
    "    train_split_size=setting.train_num\n",
    "    val_split_size=setting.val_num\n",
    "    \n",
    "    VAL_PATCH.extend(rand_current_class_data[:val_split_size])\n",
    "    VAL_LABEL.extend(np.full(val_split_size, c, dtype=int))\n",
    "\n",
    "print('val data size:',len(VAL_PATCH))\n",
    "print('val label size:',len(VAL_LABEL))"
   ]
  },
  {
   "cell_type": "code",
   "execution_count": 14,
   "metadata": {},
   "outputs": [
    {
     "name": "stdout",
     "output_type": "stream",
     "text": [
      "VAL_PATCH shape: (7000, 7, 7, 204)\n"
     ]
    }
   ],
   "source": [
    "VAL_PATCH = np.array(VAL_PATCH, dtype=DTYPE)\n",
    "print('VAL_PATCH shape:',VAL_PATCH.shape)"
   ]
  },
  {
   "cell_type": "code",
   "execution_count": 15,
   "metadata": {},
   "outputs": [
    {
     "name": "stdout",
     "output_type": "stream",
     "text": [
      "Writing: ./sample/ValSet_9_500_7_float64.h5\n",
      "Successfully save val data set!\n"
     ]
    }
   ],
   "source": [
    "# save files\n",
    "#  val data\n",
    "file_name = setting.val_data_name +'_'+ str(PATCH_SIZE) +'_'+ str(DTYPE) +'.h5'\n",
    "print ('Writing: ' + file_name)\n",
    "with h5py.File(file_name, 'w') as file:\n",
    "    file.create_dataset('val_patch', data=VAL_PATCH)\n",
    "    file.create_dataset('val_labels', data=VAL_LABEL, dtype='i8')\n",
    "print ('Successfully save val data set!')"
   ]
  },
  {
   "cell_type": "code",
   "execution_count": null,
   "metadata": {},
   "outputs": [],
   "source": []
  }
 ],
 "metadata": {
  "kernelspec": {
   "display_name": "Python [conda env:env-torch] *",
   "language": "python",
   "name": "conda-env-env-torch-py"
  },
  "language_info": {
   "codemirror_mode": {
    "name": "ipython",
    "version": 3
   },
   "file_extension": ".py",
   "mimetype": "text/x-python",
   "name": "python",
   "nbconvert_exporter": "python",
   "pygments_lexer": "ipython3",
   "version": "3.9.15"
  }
 },
 "nbformat": 4,
 "nbformat_minor": 2
}
