{
 "cells": [
  {
   "cell_type": "code",
   "execution_count": 1,
   "metadata": {},
   "outputs": [],
   "source": [
    "import h5py\n",
    "import scipy.io as scio\n",
    "import os\n",
    "import numpy as np\n",
    "import setting\n",
    "from random import shuffle\n",
    "import math"
   ]
  },
  {
   "cell_type": "code",
   "execution_count": 2,
   "metadata": {},
   "outputs": [
    {
     "name": "stdout",
     "output_type": "stream",
     "text": [
      "PATCH_SIZE= 5\n",
      "CLASS_NUM= 2\n",
      "DTYPE: float64\n"
     ]
    }
   ],
   "source": [
    "PATCH_SIZE = setting.PATCH_SIZE\n",
    "print('PATCH_SIZE=',PATCH_SIZE)\n",
    "CLASS_NUM =2\n",
    "print('CLASS_NUM=',CLASS_NUM)\n",
    "DTYPE=setting.DTYPE\n",
    "print('DTYPE:', DTYPE)"
   ]
  },
  {
   "cell_type": "code",
   "execution_count": 3,
   "metadata": {},
   "outputs": [],
   "source": [
    "TRAIN_PATCH, TRAIN_LABEL = [], []\n",
    "VAL_PATCH, VAL_LABEL =[], []\n",
    "# class_name=setting.class_name"
   ]
  },
  {
   "cell_type": "code",
   "execution_count": 4,
   "metadata": {},
   "outputs": [],
   "source": [
    "no=setting.no"
   ]
  },
  {
   "cell_type": "code",
   "execution_count": 5,
   "metadata": {},
   "outputs": [
    {
     "name": "stdout",
     "output_type": "stream",
     "text": [
      "train_patch size: (42022, 5, 5, 204)\n",
      "train_label length: 42022\n"
     ]
    }
   ],
   "source": [
    "# 加载训练样本1\n",
    "train_filename = './sample/Train_'+str(no)+'_1' +'_'+ str(PATCH_SIZE) +'_'+ str(DTYPE) +'.h5'\n",
    "with h5py.File(train_filename,'r') as readfile:\n",
    "    train_patch = readfile['train_patch'][:]\n",
    "    train_labels = readfile['train_labels'][:]    \n",
    "print('train_patch size:',train_patch.shape)\n",
    "print('train_label length:', len(train_labels))"
   ]
  },
  {
   "cell_type": "code",
   "execution_count": 6,
   "metadata": {},
   "outputs": [
    {
     "name": "stdout",
     "output_type": "stream",
     "text": [
      "CLASS 0\t 40933\n",
      "CLASS 1\t 1089\n"
     ]
    }
   ],
   "source": [
    "CLASSES = []\n",
    "for i in range(CLASS_NUM):\n",
    "    CLASSES.append([])\n",
    "for i in range(len(train_labels)):\n",
    "    temp_y = train_labels[i]\n",
    "    temp_x = train_patch[i,:,:,:]\n",
    "    CLASSES[temp_y].append(temp_x)\n",
    "for i in range(CLASS_NUM):\n",
    "    print('CLASS',str(i) + '\\t',len(CLASSES[i]))"
   ]
  },
  {
   "cell_type": "code",
   "execution_count": 7,
   "metadata": {},
   "outputs": [
    {
     "name": "stdout",
     "output_type": "stream",
     "text": [
      "0\n",
      "current class data size: (40933, 5, 5, 204)\n",
      "1\n",
      "current class data size: (1089, 5, 5, 204)\n",
      "train data size: 400\n",
      "train label size: 400\n",
      "val data size: 1000\n",
      "val label size: 1000\n"
     ]
    }
   ],
   "source": [
    "for c in range(CLASS_NUM):  # for each class\n",
    "    print(c)\n",
    "    if len(CLASSES[c])==0:\n",
    "        print('this class is empty')\n",
    "        continue\n",
    "    randIdx = np.arange(len(CLASSES[c]))\n",
    "    shuffle(randIdx)  # Randomly shuffle patches in the class\n",
    "    current_class_data = np.array(CLASSES[c],dtype = DTYPE)\n",
    "    rand_current_class_data = current_class_data[randIdx,:,:,:]\n",
    "    print('current class data size:', rand_current_class_data.shape)    \n",
    "    train_split_size=setting.train_num\n",
    "    val_split_size=setting.val_num\n",
    "    TRAIN_PATCH.extend(rand_current_class_data[-train_split_size:])\n",
    "    TRAIN_LABEL.extend(np.full(train_split_size, c, dtype=int))\n",
    "    VAL_PATCH.extend(rand_current_class_data[:val_split_size])\n",
    "    VAL_LABEL.extend(np.full(val_split_size, c, dtype=int))\n",
    "print('train data size:',len(TRAIN_PATCH))\n",
    "print('train label size:',len(TRAIN_LABEL))\n",
    "print('val data size:',len(VAL_PATCH))\n",
    "print('val label size:',len(VAL_LABEL))"
   ]
  },
  {
   "cell_type": "code",
   "execution_count": 8,
   "metadata": {},
   "outputs": [
    {
     "name": "stdout",
     "output_type": "stream",
     "text": [
      "train_patch size: (59379, 5, 5, 204)\n",
      "train_label length: 59379\n",
      "CLASS 0\t 51486\n",
      "CLASS 1\t 7893\n",
      "0\n",
      "current class data size: (51486, 5, 5, 204)\n",
      "1\n",
      "current class data size: (7893, 5, 5, 204)\n",
      "train data size: 800\n",
      "train label size: 800\n",
      "val data size: 2000\n",
      "val label size: 2000\n"
     ]
    }
   ],
   "source": [
    "# 加载训练样本2\n",
    "train_filename = './sample/Train_'+str(no)+'_2' +'_'+ str(PATCH_SIZE) +'_'+ str(DTYPE) +'.h5'\n",
    "with h5py.File(train_filename,'r') as readfile:\n",
    "    train_patch = readfile['train_patch'][:]\n",
    "    train_labels = readfile['train_labels'][:]    \n",
    "print('train_patch size:',train_patch.shape)\n",
    "print('train_label length:', len(train_labels))\n",
    "\n",
    "\n",
    "CLASSES = []\n",
    "for i in range(CLASS_NUM):\n",
    "    CLASSES.append([])\n",
    "for i in range(len(train_labels)):\n",
    "    temp_y = train_labels[i]\n",
    "    temp_x = train_patch[i,:,:,:]\n",
    "    CLASSES[temp_y].append(temp_x)\n",
    "for i in range(CLASS_NUM):\n",
    "    print('CLASS',str(i) + '\\t',len(CLASSES[i]))\n",
    "\n",
    "    \n",
    "for c in range(CLASS_NUM):  # for each class\n",
    "    print(c)\n",
    "    if len(CLASSES[c])==0:\n",
    "        print('this class is empty')\n",
    "        continue\n",
    "    randIdx = np.arange(len(CLASSES[c]))\n",
    "    shuffle(randIdx)  # Randomly shuffle patches in the class\n",
    "    current_class_data = np.array(CLASSES[c],dtype = DTYPE)\n",
    "    rand_current_class_data = current_class_data[randIdx,:,:,:]\n",
    "    print('current class data size:', rand_current_class_data.shape)    \n",
    "    train_split_size=setting.train_num\n",
    "    val_split_size=setting.val_num\n",
    "    TRAIN_PATCH.extend(rand_current_class_data[-train_split_size:])\n",
    "    TRAIN_LABEL.extend(np.full(train_split_size, c, dtype=int))\n",
    "    VAL_PATCH.extend(rand_current_class_data[:val_split_size])\n",
    "    VAL_LABEL.extend(np.full(val_split_size, c, dtype=int))\n",
    "print('train data size:',len(TRAIN_PATCH))\n",
    "print('train label size:',len(TRAIN_LABEL))\n",
    "print('val data size:',len(VAL_PATCH))\n",
    "print('val label size:',len(VAL_LABEL))"
   ]
  },
  {
   "cell_type": "code",
   "execution_count": 9,
   "metadata": {},
   "outputs": [
    {
     "name": "stdout",
     "output_type": "stream",
     "text": [
      "train_patch size: (53595, 5, 5, 204)\n",
      "train_label length: 53595\n",
      "CLASS 0\t 47165\n",
      "CLASS 1\t 6430\n",
      "0\n",
      "current class data size: (47165, 5, 5, 204)\n",
      "1\n",
      "current class data size: (6430, 5, 5, 204)\n",
      "train data size: 1200\n",
      "train label size: 1200\n",
      "val data size: 3000\n",
      "val label size: 3000\n"
     ]
    }
   ],
   "source": [
    "# 加载训练样本3\n",
    "train_filename =  './sample/Train_'+str(no)+'_3' +'_'+ str(PATCH_SIZE) +'_'+ str(DTYPE) +'.h5'\n",
    "with h5py.File(train_filename,'r') as readfile:\n",
    "    train_patch = readfile['train_patch'][:]\n",
    "    train_labels = readfile['train_labels'][:]    \n",
    "print('train_patch size:',train_patch.shape)\n",
    "print('train_label length:', len(train_labels))\n",
    "\n",
    "\n",
    "CLASSES = []\n",
    "for i in range(CLASS_NUM):\n",
    "    CLASSES.append([])\n",
    "for i in range(len(train_labels)):\n",
    "    temp_y = train_labels[i]\n",
    "    temp_x = train_patch[i,:,:,:]\n",
    "    CLASSES[temp_y].append(temp_x)\n",
    "for i in range(CLASS_NUM):\n",
    "    print('CLASS',str(i) + '\\t',len(CLASSES[i]))\n",
    "\n",
    "    \n",
    "for c in range(CLASS_NUM):  # for each class\n",
    "    print(c)\n",
    "    if len(CLASSES[c])==0:\n",
    "        print('this class is empty')\n",
    "        continue\n",
    "    randIdx = np.arange(len(CLASSES[c]))\n",
    "    shuffle(randIdx)  # Randomly shuffle patches in the class\n",
    "    current_class_data = np.array(CLASSES[c],dtype = DTYPE)\n",
    "    rand_current_class_data = current_class_data[randIdx,:,:,:]\n",
    "    print('current class data size:', rand_current_class_data.shape)    \n",
    "    train_split_size=setting.train_num\n",
    "    val_split_size=setting.val_num\n",
    "    TRAIN_PATCH.extend(rand_current_class_data[-train_split_size:])\n",
    "    TRAIN_LABEL.extend(np.full(train_split_size, c, dtype=int))\n",
    "    VAL_PATCH.extend(rand_current_class_data[:val_split_size])\n",
    "    VAL_LABEL.extend(np.full(val_split_size, c, dtype=int))\n",
    "print('train data size:',len(TRAIN_PATCH))\n",
    "print('train label size:',len(TRAIN_LABEL))\n",
    "print('val data size:',len(VAL_PATCH))\n",
    "print('val label size:',len(VAL_LABEL))"
   ]
  },
  {
   "cell_type": "code",
   "execution_count": 10,
   "metadata": {},
   "outputs": [
    {
     "name": "stdout",
     "output_type": "stream",
     "text": [
      "train_patch size: (40716, 5, 5, 204)\n",
      "train_label length: 40716\n",
      "CLASS 0\t 38059\n",
      "CLASS 1\t 2657\n",
      "0\n",
      "current class data size: (38059, 5, 5, 204)\n",
      "1\n",
      "current class data size: (2657, 5, 5, 204)\n",
      "train data size: 1600\n",
      "train label size: 1600\n",
      "val data size: 4000\n",
      "val label size: 4000\n"
     ]
    }
   ],
   "source": [
    "# 加载训练样本4\n",
    "train_filename =  './sample/Train_'+str(no)+'_4' +'_'+ str(PATCH_SIZE) +'_'+ str(DTYPE) +'.h5'\n",
    "with h5py.File(train_filename,'r') as readfile:\n",
    "    train_patch = readfile['train_patch'][:]\n",
    "    train_labels = readfile['train_labels'][:]    \n",
    "print('train_patch size:',train_patch.shape)\n",
    "print('train_label length:', len(train_labels))\n",
    "\n",
    "\n",
    "CLASSES = []\n",
    "for i in range(CLASS_NUM):\n",
    "    CLASSES.append([])\n",
    "for i in range(len(train_labels)):\n",
    "    temp_y = train_labels[i]\n",
    "    temp_x = train_patch[i,:,:,:]\n",
    "    CLASSES[temp_y].append(temp_x)\n",
    "for i in range(CLASS_NUM):\n",
    "    print('CLASS',str(i) + '\\t',len(CLASSES[i]))\n",
    "\n",
    "    \n",
    "for c in range(CLASS_NUM):  # for each class\n",
    "    print(c)\n",
    "    if len(CLASSES[c])==0:\n",
    "        print('this class is empty')\n",
    "        continue\n",
    "    randIdx = np.arange(len(CLASSES[c]))\n",
    "    shuffle(randIdx)  # Randomly shuffle patches in the class\n",
    "    current_class_data = np.array(CLASSES[c],dtype = DTYPE)\n",
    "    rand_current_class_data = current_class_data[randIdx,:,:,:]\n",
    "    print('current class data size:', rand_current_class_data.shape)    \n",
    "    train_split_size=setting.train_num\n",
    "    val_split_size=setting.val_num\n",
    "    TRAIN_PATCH.extend(rand_current_class_data[-train_split_size:])\n",
    "    TRAIN_LABEL.extend(np.full(train_split_size, c, dtype=int))\n",
    "    VAL_PATCH.extend(rand_current_class_data[:val_split_size])\n",
    "    VAL_LABEL.extend(np.full(val_split_size, c, dtype=int))\n",
    "print('train data size:',len(TRAIN_PATCH))\n",
    "print('train label size:',len(TRAIN_LABEL))\n",
    "print('val data size:',len(VAL_PATCH))\n",
    "print('val label size:',len(VAL_LABEL))"
   ]
  },
  {
   "cell_type": "code",
   "execution_count": 11,
   "metadata": {},
   "outputs": [
    {
     "name": "stdout",
     "output_type": "stream",
     "text": [
      "train_patch size: (37369, 5, 5, 204)\n",
      "train_label length: 37369\n",
      "CLASS 0\t 29779\n",
      "CLASS 1\t 7590\n",
      "0\n",
      "current class data size: (29779, 5, 5, 204)\n",
      "1\n",
      "current class data size: (7590, 5, 5, 204)\n",
      "train data size: 2000\n",
      "train label size: 2000\n",
      "val data size: 5000\n",
      "val label size: 5000\n"
     ]
    }
   ],
   "source": [
    "# 加载训练样本5\n",
    "train_filename = './sample/Train_'+str(no)+'_5' +'_'+ str(PATCH_SIZE) +'_'+ str(DTYPE) +'.h5'\n",
    "with h5py.File(train_filename,'r') as readfile:\n",
    "    train_patch = readfile['train_patch'][:]\n",
    "    train_labels = readfile['train_labels'][:]    \n",
    "print('train_patch size:',train_patch.shape)\n",
    "print('train_label length:', len(train_labels))\n",
    "\n",
    "\n",
    "CLASSES = []\n",
    "for i in range(CLASS_NUM):\n",
    "    CLASSES.append([])\n",
    "for i in range(len(train_labels)):\n",
    "    temp_y = train_labels[i]\n",
    "    temp_x = train_patch[i,:,:,:]\n",
    "    CLASSES[temp_y].append(temp_x)\n",
    "for i in range(CLASS_NUM):\n",
    "    print('CLASS',str(i) + '\\t',len(CLASSES[i]))\n",
    "\n",
    "    \n",
    "for c in range(CLASS_NUM):  # for each class\n",
    "    print(c)\n",
    "    if len(CLASSES[c])==0:\n",
    "        print('this class is empty')\n",
    "        continue\n",
    "    randIdx = np.arange(len(CLASSES[c]))\n",
    "    shuffle(randIdx)  # Randomly shuffle patches in the class\n",
    "    current_class_data = np.array(CLASSES[c],dtype = DTYPE)\n",
    "    rand_current_class_data = current_class_data[randIdx,:,:,:]\n",
    "    print('current class data size:', rand_current_class_data.shape)    \n",
    "    train_split_size=setting.train_num\n",
    "    val_split_size=setting.val_num\n",
    "    TRAIN_PATCH.extend(rand_current_class_data[-train_split_size:])\n",
    "    TRAIN_LABEL.extend(np.full(train_split_size, c, dtype=int))\n",
    "    VAL_PATCH.extend(rand_current_class_data[:val_split_size])\n",
    "    VAL_LABEL.extend(np.full(val_split_size, c, dtype=int))\n",
    "print('train data size:',len(TRAIN_PATCH))\n",
    "print('train label size:',len(TRAIN_LABEL))\n",
    "print('val data size:',len(VAL_PATCH))\n",
    "print('val label size:',len(VAL_LABEL))"
   ]
  },
  {
   "cell_type": "code",
   "execution_count": 12,
   "metadata": {},
   "outputs": [
    {
     "name": "stdout",
     "output_type": "stream",
     "text": [
      "TRAIN_PATCH shape: (2000, 5, 5, 204)\n",
      "VAL_PATCH shape: (5000, 5, 5, 204)\n"
     ]
    }
   ],
   "source": [
    "TRAIN_PATCH = np.array(TRAIN_PATCH, dtype=DTYPE)\n",
    "print('TRAIN_PATCH shape:',TRAIN_PATCH.shape)\n",
    "VAL_PATCH = np.array(VAL_PATCH, dtype=DTYPE)\n",
    "print('VAL_PATCH shape:',VAL_PATCH.shape)"
   ]
  },
  {
   "cell_type": "code",
   "execution_count": 13,
   "metadata": {},
   "outputs": [
    {
     "name": "stdout",
     "output_type": "stream",
     "text": [
      "Writing: ./sample/TrainSet_1_200_5_float64.h5\n",
      "Successfully save training data set!\n",
      "Writing: ./sample/ValSet_1_500_5_float64.h5\n",
      "Successfully save val data set!\n"
     ]
    }
   ],
   "source": [
    "# save files\n",
    "# 1. Training data\n",
    "file_name = setting.train_data_name +'_'+ str(PATCH_SIZE) +'_'+ str(DTYPE) +'.h5'\n",
    "print ('Writing: ' + file_name)\n",
    "with h5py.File(file_name, 'w') as file:\n",
    "    file.create_dataset('train_patch', data=TRAIN_PATCH)\n",
    "    file.create_dataset('train_labels', data=TRAIN_LABEL, dtype='i8')\n",
    "print ('Successfully save training data set!')\n",
    "\n",
    "# save files\n",
    "# 2. val data\n",
    "file_name = setting.val_data_name +'_'+ str(PATCH_SIZE) +'_'+ str(DTYPE) +'.h5'\n",
    "print ('Writing: ' + file_name)\n",
    "with h5py.File(file_name, 'w') as file:\n",
    "    file.create_dataset('val_patch', data=VAL_PATCH)\n",
    "    file.create_dataset('val_labels', data=VAL_LABEL, dtype='i8')\n",
    "print ('Successfully save val data set!')"
   ]
  },
  {
   "cell_type": "code",
   "execution_count": null,
   "metadata": {},
   "outputs": [],
   "source": []
  }
 ],
 "metadata": {
  "kernelspec": {
   "display_name": "Python 3 (ipykernel)",
   "language": "python",
   "name": "python3"
  },
  "language_info": {
   "codemirror_mode": {
    "name": "ipython",
    "version": 3
   },
   "file_extension": ".py",
   "mimetype": "text/x-python",
   "name": "python",
   "nbconvert_exporter": "python",
   "pygments_lexer": "ipython3",
   "version": "3.9.15"
  }
 },
 "nbformat": 4,
 "nbformat_minor": 2
}
